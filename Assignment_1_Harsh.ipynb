{
  "cells": [
    {
      "cell_type": "markdown",
      "metadata": {
        "id": "xfXN9da_9oMv"
      },
      "source": [
        "### **Importing Libraries**"
      ]
    },
    {
      "cell_type": "code",
      "execution_count": 28,
      "metadata": {
        "id": "VEhgNreByvTJ"
      },
      "outputs": [],
      "source": [
        "import itertools\n",
        "import math\n",
        "import os\n",
        "import numpy as np\n",
        "import pandas as pd\n",
        "import random\n",
        "\n",
        "from sklearn.model_selection  import train_test_split\n",
        "from sklearn.metrics import confusion_matrix as cnfm\n",
        "from sklearn.preprocessing import OneHotEncoder\n",
        "import matplotlib.pyplot as plt\n",
        "%matplotlib inline\n",
        "from keras.datasets import fashion_mnist\n",
        "from keras.datasets import mnist\n",
        "\n",
        "\n"
      ]
    },
    {
      "cell_type": "code",
      "execution_count": 29,
      "metadata": {
        "colab": {
          "base_uri": "https://localhost:8080/"
        },
        "id": "BnoI6VGrHZ03",
        "outputId": "a6829ee2-f25f-40c6-c8ee-6293954cf2e1"
      },
      "outputs": [
        {
          "output_type": "stream",
          "name": "stdout",
          "text": [
            "Looking in indexes: https://pypi.org/simple, https://us-python.pkg.dev/colab-wheels/public/simple/\n",
            "Requirement already satisfied: wandb in /usr/local/lib/python3.9/dist-packages (0.14.0)\n",
            "Requirement already satisfied: docker-pycreds>=0.4.0 in /usr/local/lib/python3.9/dist-packages (from wandb) (0.4.0)\n",
            "Requirement already satisfied: pathtools in /usr/local/lib/python3.9/dist-packages (from wandb) (0.1.2)\n",
            "Requirement already satisfied: setuptools in /usr/local/lib/python3.9/dist-packages (from wandb) (63.4.3)\n",
            "Requirement already satisfied: GitPython!=3.1.29,>=1.0.0 in /usr/local/lib/python3.9/dist-packages (from wandb) (3.1.31)\n",
            "Requirement already satisfied: appdirs>=1.4.3 in /usr/local/lib/python3.9/dist-packages (from wandb) (1.4.4)\n",
            "Requirement already satisfied: PyYAML in /usr/local/lib/python3.9/dist-packages (from wandb) (6.0)\n",
            "Requirement already satisfied: protobuf!=4.21.0,<5,>=3.15.0 in /usr/local/lib/python3.9/dist-packages (from wandb) (3.19.6)\n",
            "Requirement already satisfied: setproctitle in /usr/local/lib/python3.9/dist-packages (from wandb) (1.3.2)\n",
            "Requirement already satisfied: Click!=8.0.0,>=7.0 in /usr/local/lib/python3.9/dist-packages (from wandb) (8.1.3)\n",
            "Requirement already satisfied: requests<3,>=2.0.0 in /usr/local/lib/python3.9/dist-packages (from wandb) (2.27.1)\n",
            "Requirement already satisfied: psutil>=5.0.0 in /usr/local/lib/python3.9/dist-packages (from wandb) (5.9.4)\n",
            "Requirement already satisfied: typing-extensions in /usr/local/lib/python3.9/dist-packages (from wandb) (4.5.0)\n",
            "Requirement already satisfied: sentry-sdk>=1.0.0 in /usr/local/lib/python3.9/dist-packages (from wandb) (1.17.0)\n",
            "Requirement already satisfied: six>=1.4.0 in /usr/local/lib/python3.9/dist-packages (from docker-pycreds>=0.4.0->wandb) (1.15.0)\n",
            "Requirement already satisfied: gitdb<5,>=4.0.1 in /usr/local/lib/python3.9/dist-packages (from GitPython!=3.1.29,>=1.0.0->wandb) (4.0.10)\n",
            "Requirement already satisfied: certifi>=2017.4.17 in /usr/local/lib/python3.9/dist-packages (from requests<3,>=2.0.0->wandb) (2022.12.7)\n",
            "Requirement already satisfied: idna<4,>=2.5 in /usr/local/lib/python3.9/dist-packages (from requests<3,>=2.0.0->wandb) (3.4)\n",
            "Requirement already satisfied: urllib3<1.27,>=1.21.1 in /usr/local/lib/python3.9/dist-packages (from requests<3,>=2.0.0->wandb) (1.26.15)\n",
            "Requirement already satisfied: charset-normalizer~=2.0.0 in /usr/local/lib/python3.9/dist-packages (from requests<3,>=2.0.0->wandb) (2.0.12)\n",
            "Requirement already satisfied: smmap<6,>=3.0.1 in /usr/local/lib/python3.9/dist-packages (from gitdb<5,>=4.0.1->GitPython!=3.1.29,>=1.0.0->wandb) (5.0.0)\n"
          ]
        }
      ],
      "source": [
        "!pip install wandb\n",
        "\n"
      ]
    },
    {
      "cell_type": "code",
      "execution_count": 30,
      "metadata": {
        "id": "jPyTqShZHo7Q"
      },
      "outputs": [],
      "source": [
        "import wandb"
      ]
    },
    {
      "cell_type": "code",
      "execution_count": 31,
      "metadata": {
        "colab": {
          "base_uri": "https://localhost:8080/"
        },
        "id": "UnOMsHbSJi5a",
        "outputId": "40ce89f5-9ad0-4023-ad43-74c57afa79c0"
      },
      "outputs": [
        {
          "output_type": "stream",
          "name": "stderr",
          "text": [
            "\u001b[34m\u001b[1mwandb\u001b[0m: \u001b[33mWARNING\u001b[0m If you're specifying your api key in code, ensure this code is not shared publicly.\n",
            "\u001b[34m\u001b[1mwandb\u001b[0m: \u001b[33mWARNING\u001b[0m Consider setting the WANDB_API_KEY environment variable, or running `wandb login` from the command line.\n",
            "\u001b[34m\u001b[1mwandb\u001b[0m: Appending key for api.wandb.ai to your netrc file: /root/.netrc\n"
          ]
        },
        {
          "output_type": "execute_result",
          "data": {
            "text/plain": [
              "True"
            ]
          },
          "metadata": {},
          "execution_count": 31
        }
      ],
      "source": [
        "wandb.login(key='17d991db26320e751b170877037d1067a164fe6d')"
      ]
    },
    {
      "cell_type": "code",
      "execution_count": 32,
      "metadata": {
        "colab": {
          "base_uri": "https://localhost:8080/",
          "height": 125
        },
        "id": "YalIxS34HZEP",
        "outputId": "f5161022-f7e3-4335-a52f-900a8bee85b3"
      },
      "outputs": [
        {
          "output_type": "display_data",
          "data": {
            "text/plain": [
              "<IPython.core.display.HTML object>"
            ],
            "text/html": [
              "Tracking run with wandb version 0.14.0"
            ]
          },
          "metadata": {}
        },
        {
          "output_type": "display_data",
          "data": {
            "text/plain": [
              "<IPython.core.display.HTML object>"
            ],
            "text/html": [
              "Run data is saved locally in <code>/content/wandb/run-20230318_140254-gs7wa5c4</code>"
            ]
          },
          "metadata": {}
        },
        {
          "output_type": "display_data",
          "data": {
            "text/plain": [
              "<IPython.core.display.HTML object>"
            ],
            "text/html": [
              "Syncing run <strong><a href='https://wandb.ai/harshvrma/Assignment_1_finals1114/runs/gs7wa5c4' target=\"_blank\">ethereal-tree-4</a></strong> to <a href='https://wandb.ai/harshvrma/Assignment_1_finals1114' target=\"_blank\">Weights & Biases</a> (<a href='https://wandb.me/run' target=\"_blank\">docs</a>)<br/>"
            ]
          },
          "metadata": {}
        },
        {
          "output_type": "display_data",
          "data": {
            "text/plain": [
              "<IPython.core.display.HTML object>"
            ],
            "text/html": [
              " View project at <a href='https://wandb.ai/harshvrma/Assignment_1_finals1114' target=\"_blank\">https://wandb.ai/harshvrma/Assignment_1_finals1114</a>"
            ]
          },
          "metadata": {}
        },
        {
          "output_type": "display_data",
          "data": {
            "text/plain": [
              "<IPython.core.display.HTML object>"
            ],
            "text/html": [
              " View run at <a href='https://wandb.ai/harshvrma/Assignment_1_finals1114/runs/gs7wa5c4' target=\"_blank\">https://wandb.ai/harshvrma/Assignment_1_finals1114/runs/gs7wa5c4</a>"
            ]
          },
          "metadata": {}
        },
        {
          "output_type": "execute_result",
          "data": {
            "text/html": [
              "<button onClick=\"this.nextSibling.style.display='block';this.style.display='none';\">Display W&B run</button><iframe src='https://wandb.ai/harshvrma/Assignment_1_finals1114/runs/gs7wa5c4?jupyter=true' style='border:none;width:100%;height:420px;display:none;'></iframe>"
            ],
            "text/plain": [
              "<wandb.sdk.wandb_run.Run at 0x7efbc0387520>"
            ]
          },
          "metadata": {},
          "execution_count": 32
        }
      ],
      "source": [
        "wandb.init(project=\"Assignment_1_finals1114\")\n"
      ]
    },
    {
      "cell_type": "code",
      "execution_count": 32,
      "metadata": {
        "id": "IFpT3taysr9y"
      },
      "outputs": [],
      "source": []
    },
    {
      "cell_type": "markdown",
      "metadata": {
        "id": "boR4MzKrsu5r"
      },
      "source": [
        "# **Question 1**"
      ]
    },
    {
      "cell_type": "code",
      "execution_count": 33,
      "metadata": {
        "id": "QDT8vnMIssBT"
      },
      "outputs": [],
      "source": [
        "(train_data, train_class), (test_data, test_class) = fashion_mnist.load_data()"
      ]
    },
    {
      "cell_type": "code",
      "execution_count": 34,
      "metadata": {
        "colab": {
          "base_uri": "https://localhost:8080/",
          "height": 373,
          "referenced_widgets": [
            "a22208e638ac48279d23273b12670d4c",
            "2c22d6bbaea3480b83dc6d792b821290",
            "571211911d7d4669bd39cee480f13f71",
            "bcbc7a2cf66e4885ad123040ca9258a7",
            "fcec2d4cbaf346a5a56cc7a28c8f973a",
            "5ff680f9048c45548160cc30bb2449cc",
            "e16cbadde22d45de9f9d1487c606b4ee",
            "1439ca20a2dc4d5b8c175828ac2fb32d"
          ]
        },
        "id": "6JUwCwuissF4",
        "outputId": "315ae471-c52a-40c1-a412-14c241318d13"
      },
      "outputs": [
        {
          "output_type": "display_data",
          "data": {
            "text/plain": [
              "<IPython.core.display.HTML object>"
            ],
            "text/html": [
              "Waiting for W&B process to finish... <strong style=\"color:green\">(success).</strong>"
            ]
          },
          "metadata": {}
        },
        {
          "output_type": "display_data",
          "data": {
            "text/plain": [
              "VBox(children=(Label(value='0.006 MB of 0.014 MB uploaded (0.000 MB deduped)\\r'), FloatProgress(value=0.428646…"
            ],
            "application/vnd.jupyter.widget-view+json": {
              "version_major": 2,
              "version_minor": 0,
              "model_id": "a22208e638ac48279d23273b12670d4c"
            }
          },
          "metadata": {}
        },
        {
          "output_type": "display_data",
          "data": {
            "text/plain": [
              "<IPython.core.display.HTML object>"
            ],
            "text/html": [
              " View run <strong style=\"color:#cdcd00\">ethereal-tree-4</strong> at: <a href='https://wandb.ai/harshvrma/Assignment_1_finals1114/runs/gs7wa5c4' target=\"_blank\">https://wandb.ai/harshvrma/Assignment_1_finals1114/runs/gs7wa5c4</a><br/>Synced 4 W&B file(s), 10 media file(s), 0 artifact file(s) and 0 other file(s)"
            ]
          },
          "metadata": {}
        },
        {
          "output_type": "display_data",
          "data": {
            "text/plain": [
              "<IPython.core.display.HTML object>"
            ],
            "text/html": [
              "Find logs at: <code>./wandb/run-20230318_140254-gs7wa5c4/logs</code>"
            ]
          },
          "metadata": {}
        },
        {
          "output_type": "display_data",
          "data": {
            "text/plain": [
              "<Figure size 432x288 with 10 Axes>"
            ],
            "image/png": "[encoded data removed]"
          },
          "metadata": {
            "needs_background": "light"
          }
        }
      ],
      "source": [
        "dress=[\"T-shirt/top\", \"Trouser\",\"Pullover\", \"Dress\", \"Coat\", \"Sandal\", \"Shirt\", \"Sneaker\", \"Bag\",\"Ankle boot\"]\n",
        "\n",
        "\n",
        "unique=[]\n",
        "outputs = 10\n",
        "sizex = len(train_class)\n",
        "for i in range(outputs):\n",
        "  for j in range(sizex):\n",
        "    res = train_class[j]\n",
        "    if res==i:\n",
        "      ans = train_data[j]\n",
        "      unique.append(ans)\n",
        "      break;\n",
        "\n",
        "for i in range(len(unique)):\n",
        "  plt.subplot(2,5,i+1)\n",
        "  plt.imshow(unique[i])\n",
        "  plt.title(dress[i])\n",
        "wandb.run.name=\"Question-1\"\n",
        "wandb.log({\"imagess\":[wandb.Image(img,caption=item) for img,item in zip(unique,dress)]})\n",
        "wandb.finish()"
      ]
    },
    {
      "cell_type": "code",
      "execution_count": null,
      "metadata": {
        "id": "HysJpdAgtAU9"
      },
      "outputs": [],
      "source": []
    },
    {
      "cell_type": "markdown",
      "metadata": {
        "id": "6fbKqafltA0Q"
      },
      "source": [
        "# **Question 2**"
      ]
    },
    {
      "cell_type": "code",
      "execution_count": null,
      "metadata": {
        "id": "UAwOPQYJssKz"
      },
      "outputs": [],
      "source": [
        "\n",
        "train_data = np.array(train_data)\n",
        "train_data = train_data / 255.0\n",
        "test_data = np.array(test_data)\n",
        "test_data = test_data / 255.0\n",
        "print(train_data.shape)\n",
        "print(test_data.shape)\n"
      ]
    },
    {
      "cell_type": "code",
      "execution_count": 35,
      "metadata": {
        "id": "IgNjaHXzssPm"
      },
      "outputs": [],
      "source": [
        "split = 0.2\n",
        "x_train, x_val, y_train, y_val = train_test_split(train_data, train_class, test_size=split, random_state=42)\n",
        "y_tr=y_train\n",
        "\n",
        "y_train_unencoded = y_train\n",
        "#One hot encoding of the class labels\n",
        "encoder = OneHotEncoder()\n",
        "y_train = encoder.fit_transform(np.expand_dims(y_train,1)).toarray()\n",
        "y_val = encoder.fit_transform(np.expand_dims(y_val,1)).toarray()\n",
        "y_test = encoder.fit_transform(np.expand_dims(test_class,1)).toarray()"
      ]
    },
    {
      "cell_type": "code",
      "execution_count": 36,
      "metadata": {
        "id": "LghLEsUkssUe"
      },
      "outputs": [],
      "source": [
        "class FeedForwardNeuralNetwork():\n",
        "    def __init__(self,input_size,output_size,Y,hidden_layer=[128]):\n",
        "        self.num_inputs=input_size\n",
        "        self.num_outputs=output_size\n",
        "        self.hidden_sizes=len(hidden_layer)\n",
        "        self.hidden_layer=hidden_layer\n",
        "        self.Weights = {}\n",
        "        self.Biases = {}\n",
        "        self.sizes=[self.num_inputs]+hidden_layer+[self.num_outputs]                 \n",
        "            \n",
        "    \n",
        "    def softmax(self,x):\n",
        "        exps=np.exp(x)\n",
        "        res=exps/(np.sum(exps))\n",
        "        return res\n",
        "    def grad_softmax(y_pred,truey):\n",
        "            res =  y_pred-truey\n",
        "            return res\n",
        "    def tanh(self,x):\n",
        "        return np.tanh(x)\n",
        "    def derivative_tanh(x):\n",
        "        compute=np.tanh(x)**2\n",
        "        return 1-compute\n",
        "    def activation_function(self,name,x):\n",
        "        res = np.tanh(x)\n",
        "        return res\n",
        "    def forward_propogation(self,activation,X):\n",
        "        self.H={}\n",
        "        self.H[0]=X.reshape(1,-1)\n",
        "        self.A={}\n",
        "        for i in range(self.hidden_sizes):\n",
        "            wts = self.Weights[i+1]\n",
        "            self.A[i+1]=np.matmul(self.H[i],wts)+self.Biases[i+1]\n",
        "            self.H[i+1]=self.activation_function(activation,self.A[i+1])\n",
        "        self.A[(self.hidden_sizes)+1]=np.matmul(self.H[(self.hidden_sizes)],self.Weights[(self.hidden_sizes)+1])+self.Biases[(self.hidden_sizes)+1]\n",
        "        self.H[(self.hidden_sizes)+1]= self.softmax(self.A[len(self.hidden_layer)+1]) \n",
        "        return \n",
        "    def fit(self,activation,X,Y):\n",
        "        Y_pred=[]\n",
        "        for i in range(self.hidden_sizes+1):\n",
        "            current=self.sizes[i]\n",
        "            next_Layer=self.sizes[i+1]\n",
        "            self.Weights[i+1] = np.random.randn(current, next_Layer)\n",
        "            self.Biases[i+1] = np.zeros((1, next_Layer))\n",
        "        \n",
        "        for x,y in zip(X,Y):\n",
        "            self.forward_propogation(activation,x)\n",
        "            Y_pred.append(self.H[(self.hidden_sizes)+1][0])\n",
        "        return Y_pred\n",
        "        \n",
        "        \n",
        "    \n",
        "    \n",
        "    \n",
        "    "
      ]
    },
    {
      "cell_type": "code",
      "execution_count": 41,
      "metadata": {
        "id": "Bicb8H1assZP",
        "colab": {
          "base_uri": "https://localhost:8080/"
        },
        "outputId": "504bb946-8da8-4b2d-c15b-c2bbd8330fc8"
      },
      "outputs": [
        {
          "output_type": "stream",
          "name": "stdout",
          "text": [
            "The probability distribution for Image Index 455 is \n",
            "\n",
            "[0.00133078 0.00000083 0.         0.00145337 0.99504449 0.00000005\n",
            " 0.00000002 0.00000691 0.00216356 0.        ]\n"
          ]
        }
      ],
      "source": [
        "xsize = x_train.shape[1]*x_train.shape[1]\n",
        "ysize = y_train.shape[1]\n",
        "hidden = [100,256,512]\n",
        "model = FeedForwardNeuralNetwork(xsize,ysize,hidden)\n",
        "activation_name = \"tanh\"\n",
        "class_predictions = model.fit(activation_name, x_train, y_train)\n",
        "\n",
        "np.set_printoptions(suppress=True)\n",
        "print(\"The probability distribution for Image Index 455 is \\n\")\n",
        "print(class_predictions[455])"
      ]
    },
    {
      "cell_type": "code",
      "execution_count": 38,
      "metadata": {
        "id": "YFHakLd8sseJ",
        "colab": {
          "base_uri": "https://localhost:8080/"
        },
        "outputId": "84b279ba-3c96-4451-97b8-7ea02bf2720b"
      },
      "outputs": [
        {
          "output_type": "execute_result",
          "data": {
            "text/plain": [
              "array([0.00020793, 0.9325292 , 0.        , 0.00000005, 0.        ,\n",
              "       0.        , 0.06726221, 0.        , 0.00000013, 0.00000048])"
            ]
          },
          "metadata": {},
          "execution_count": 38
        }
      ],
      "source": [
        "\n"
      ]
    },
    {
      "cell_type": "markdown",
      "metadata": {
        "id": "hxOmlOSN-Cnh"
      },
      "source": [
        "### **`Question 3-9`**"
      ]
    },
    {
      "cell_type": "code",
      "execution_count": null,
      "metadata": {
        "id": "GRPv16W2srX5"
      },
      "outputs": [],
      "source": []
    },
    {
      "cell_type": "code",
      "execution_count": 42,
      "metadata": {
        "id": "T_RoS2jwgbmG"
      },
      "outputs": [],
      "source": [
        "(train_images, train_labels),(test_images, test_labels) = fashion_mnist.load_data()"
      ]
    },
    {
      "cell_type": "code",
      "execution_count": 43,
      "metadata": {
        "id": "_lUc5ltEQcM_"
      },
      "outputs": [],
      "source": [
        "train_images, val_images, train_labels, val_labels  = train_test_split(train_images,train_labels,test_size=0.1,random_state = 42)"
      ]
    },
    {
      "cell_type": "code",
      "execution_count": 44,
      "metadata": {
        "id": "8fMVYaXPdYql"
      },
      "outputs": [],
      "source": [
        "trainsize=train_images.shape[0]\n",
        "traind = train_images.reshape(trainsize,-1)\n",
        "mean = traind.mean(axis=0)\n",
        "normalized = (traind -  mean)/np.max((traind -  mean).max(axis=0))\n",
        "\n",
        "valsize=val_images.shape[0]\n",
        "val_images = val_images.reshape(valsize,-1)\n",
        "mean = val_images.mean(axis=0)\n",
        "val_images =  (val_images -  mean)/np.max((val_images -  mean).max(axis=0))\n",
        "\n",
        "testsize=test_images.shape[0]\n",
        "test_images = test_images.reshape(testsize,-1)\n",
        "max = (test_images -  mean).max(axis=0)\n",
        "test_images = (test_images -  mean)/np.max((test_images -  mean).max(axis=0))"
      ]
    },
    {
      "cell_type": "markdown",
      "metadata": {
        "id": "2ccGAXKwVIqW"
      },
      "source": [
        "### **Starting Of NN**"
      ]
    },
    {
      "cell_type": "code",
      "execution_count": null,
      "metadata": {
        "id": "XuBSocl0XaZE"
      },
      "outputs": [],
      "source": []
    },
    {
      "cell_type": "code",
      "execution_count": null,
      "metadata": {
        "id": "dh3vmHAM59rh"
      },
      "outputs": [],
      "source": []
    },
    {
      "cell_type": "code",
      "execution_count": 49,
      "metadata": {
        "id": "f3tWwkPE59we"
      },
      "outputs": [],
      "source": [
        "class NeuralNet:\n",
        "    def __init__(self,Size_of_Input, Number_of_Neuron_each_Layer, Number_of_Layers, activation_function, typeOfInit, L2reg_const = 0):\n",
        "        self.activation_function = activation_function\n",
        "        self.Size_of_Input = Size_of_Input\n",
        "        self.Number_of_Layers = Number_of_Layers\n",
        "        self.Number_of_Neuron_each_Layer = Number_of_Neuron_each_Layer\n",
        "        self.L2reg_const = L2reg_const\n",
        "        self.W,self.b = self.initializer(typeOfInit)\n",
        "\n",
        "    \n",
        "    def initializer(self, init):    \n",
        "        b = []    \n",
        "        W = []\n",
        "        \n",
        "        layers_size = self.Number_of_Layers\n",
        "        if (init == 'xavier'):\n",
        "            input_neuron = self.Number_of_Neuron_each_Layer[0]\n",
        "            parameter =  input_neuron+ self.Size_of_Input\n",
        "            input_size = self.Size_of_Input\n",
        "            number_of_layers = layers_size\n",
        "            W.append(np.random.normal(0,math.sqrt(2/(parameter)), ( input_neuron, input_size)))\n",
        "            for i in range(1,layers_size):\n",
        "                W.append(np.random.normal(0, math.sqrt(2/(self.Number_of_Neuron_each_Layer[i]+self.Number_of_Neuron_each_Layer[i-1])),(self.Number_of_Neuron_each_Layer[i],self.Number_of_Neuron_each_Layer[i-1])))\n",
        "\n",
        "            for i in range(number_of_layers):\n",
        "                curr_layer= self.Number_of_Neuron_each_Layer[i]\n",
        "                b.append(np.random.rand(curr_layer))\n",
        "        if init == 'random':\n",
        "            input_neuron = self.Number_of_Neuron_each_Layer[0]\n",
        "            input_size = self.Size_of_Input\n",
        "            W.append(np.random.randn(input_neuron, input_size))\n",
        "            number_of_layers = layers_size\n",
        "            for i in range(1,number_of_layers):\n",
        "                curr_layer = self.Number_of_Neuron_each_Layer[i]\n",
        "                prev_layer = self.Number_of_Neuron_each_Layer[i-1]\n",
        "                W.append(np.random.randn(curr_layer,prev_layer))\n",
        "\n",
        "            for i in range( number_of_layers):\n",
        "                curr_layer = self.Number_of_Neuron_each_Layer[i]\n",
        "                b.append(np.random.rand(curr_layer))\n",
        "        return W,b\n",
        "\n",
        "\n",
        "    def activation(self, Z):\n",
        "        if self.activation_function == 'ReLU':\n",
        "            res = self.ReLU(Z)\n",
        "            return res\n",
        "        elif self.activation_function == 'tanh':\n",
        "            res =  self.tanh(Z)\n",
        "            return res\n",
        "        elif self.activation_function == 'sigmoid':\n",
        "            res = self.sigmoid(Z)\n",
        "            return res\n",
        "\n",
        "\n",
        "    def activation_derivative(self,Z):\n",
        "        if self.activation_function == 'ReLU':\n",
        "            res = self.ReLU_derivative(Z)\n",
        "            return res\n",
        "        if self.activation_function == 'tanh':\n",
        "            res = self.tanh_derivative(Z)\n",
        "            return res\n",
        "        if self.activation_function == 'sigmoid':\n",
        "            res = self.sigmoid_derivative(Z)\n",
        "            return res\n",
        "    def ReLU(self,Z):\n",
        "        res= np.maximum(0,Z)\n",
        "        return res\n",
        "\n",
        "    def ReLU_derivative(self,Z):\n",
        "        res = [1 if x>0 else 0 for x in Z]\n",
        "        return res\n",
        "\n",
        "    def tanh(self, Z):\n",
        "        res = np.array([((np.exp(x) - np.exp(-x))/((np.exp(x) + np.exp(-x)))) for x in Z])\n",
        "        return res\n",
        "                 \n",
        "    def tanh_derivative(self, Z):\n",
        "        res = np.array(1 - self.tanh(Z)**2)\n",
        "        return res\n",
        "                 \n",
        "    def sigmoid_derivative(self,Z):\n",
        "        res = self.sigmoid(Z)*(1-self.sigmoid(Z))\n",
        "        return res\n",
        "\n",
        "    def sigmoid(self,x):\n",
        "        res = np.where(x>=0, 1/(1+np.exp(-x)), np.exp(x)/(1+np.exp(x)))\n",
        "        return res\n",
        "    \n",
        "    def softmax_function(self,Z):\n",
        "            maxZ=Z.max()\n",
        "            Z =   Z - maxZ# This is done to normalize the dataset\n",
        "            prob =np.exp(Z)\n",
        "            sumprob=np.sum(np.exp(Z),axis=0)\n",
        "            return (prob/sumprob)\n",
        "\n",
        "    def forward_propagation(self,Input):\n",
        "        Input = np.array(Input)\n",
        "        A = []\n",
        "        H = []\n",
        "        res = self.W[0].dot(Input) + self.b[0]\n",
        "        A.append(res)\n",
        "        number_of_layers =  self.Number_of_Layers\n",
        "        for i in range(1, number_of_layers):\n",
        "            H.append(self.activation(A[-1]))\n",
        "            preactivation = self.W[i].dot(H[-1]) + self.b[i]\n",
        "            A.append(preactivation)\n",
        "        y_hat = self.softmax_function(A[-1])\n",
        "        return A, H, y_hat\n",
        "\n",
        "    def backward_propagation(self, A, H, y_hat, y, Input, loss_type):\n",
        "        Input = np.array(Input)\n",
        "        H.insert(0,Input)\n",
        "        delW = []\n",
        "        delb = []\n",
        "        delA = []\n",
        "        delH = []\n",
        "\n",
        "        last_layer=self.Number_of_Neuron_each_Layer[-1]\n",
        "        zeros= np.zeros(last_layer)\n",
        "        ey = zeros\n",
        "        ey[y] = 1\n",
        "        \n",
        "        if loss_type==\"squared_error\":\n",
        "            der1=(y_hat - ey)\n",
        "            der2=(y_hat - y_hat**2)\n",
        "            delA.append(np.array(der1*der2))\n",
        "        else:\n",
        "        # delA and delH have reverse indexing\n",
        "            res=-(ey - y_hat)\n",
        "            delA.append(np.array(res))\n",
        "        number_of_layers= self.Number_of_Layers\n",
        "        for i in range( number_of_layers-1,-1,-1):\n",
        "            delastAshape=delA[-1].shape[0]\n",
        "            hlastshape=H[i].shape[0]\n",
        "            regulariz=self.L2reg_const*self.W[i]\n",
        "            delW.insert(0,delA[-1].reshape(delastAshape,1).dot(H[i].reshape(hlastshape,1).T) +regulariz )\n",
        "            delb.insert(0,delA[-1])\n",
        "            temp=self.W[i].T.dot(delA[-1])\n",
        "            delH.append(temp)\n",
        "            if i-1>=0:\n",
        "                delA.append(np.multiply(delH[-1], self.activation_derivative(A[i-1])))\n",
        "        return delW,delb\n",
        "    \n",
        "    \n",
        "    def initialize(self, Size_of_Input,Number_of_Layers,Number_of_Neuron_each_Layer):\n",
        "        W, b = [], []\n",
        "        each_layer_neuron = Number_of_Neuron_each_Layer[0]\n",
        "        input_size = Size_of_Input\n",
        "        W.append(np.zeros(( Number_of_Neuron_each_Layer[0],input_size )))\n",
        "        for i in range(1,Number_of_Layers):\n",
        "            curr_layer = Number_of_Neuron_each_Layer[i]\n",
        "            prev_layer = Number_of_Neuron_each_Layer[i-1]\n",
        "            W.append(np.zeros((curr_layer,prev_layer)))\n",
        "        for i in range(Number_of_Layers):\n",
        "            curr_layer = Number_of_Neuron_each_Layer[i]\n",
        "            b.append(np.zeros(curr_layer))            \n",
        "        return W, b\n",
        "\n",
        "    \n",
        "    def optimize(self, X, Y, val_images,val_labels,optimizer, learning_rate, max_epochs,batch_size,loss_type,momentum=0.5,beta = 0.89, epsilon = 1e-6,beta1 = 0.89,beta2 = 0.989):\n",
        "        if optimizer == 'sgd':\n",
        "          self.stochastic_gradient_descent(X, Y, val_images,val_labels, learning_rate, max_epochs,loss_type)\n",
        "        if optimizer == 'momentum':\n",
        "          self.momentum_gradient_descent(X, Y, val_images,val_labels, learning_rate, max_epochs,batch_size,loss_type)\n",
        "        if optimizer == 'nag':\n",
        "          self.nesterov_accelerated_gradient_descent(X, Y, val_images,val_labels, learning_rate, max_epochs,batch_size,loss_type)\n",
        "        if optimizer == 'rmsprop':\n",
        "          self.rmsprop(X, Y, val_images,val_labels, learning_rate, max_epochs,batch_size,loss_type)\n",
        "        if optimizer == 'adam':\n",
        "          self.adam(X, Y, val_images,val_labels, learning_rate, max_epochs,batch_size,loss_type)\n",
        "        if optimizer == 'nadam':\n",
        "          self.nadam(X, Y, val_images,val_labels, learning_rate, max_epochs,batch_size,loss_type)\n",
        "\n",
        "\n",
        "    def stochastic_gradient_descent(self,X, Y, val_images,val_labels, learning_rate, max_epochs,loss_type):\n",
        "        number_of_inputs = self.Size_of_Input\n",
        "        layers_size = self.Number_of_Layers\n",
        "        neurons = self.Number_of_Neuron_each_Layer\n",
        "        for j in range(max_epochs):\n",
        "            correct = 0\n",
        "            error = 0\n",
        "            delW, delb = self.initialize(number_of_inputs,layers_size,neurons)\n",
        "            xsize=X.shape[0]\n",
        "            for i in range(xsize):\n",
        "                features=X[i]\n",
        "                A,H,y_hat = self.forward_propagation(features)\n",
        "                upW=self.W\n",
        "                s = [x.sum() for x in upW]\n",
        "                zeros=np.zeros(self.Number_of_Neuron_each_Layer[-1])\n",
        "                ey = zeros\n",
        "                ey[Y[i]] = 1\n",
        "                if loss_type == \"squared_error\":\n",
        "                      sqrd = 0.5*np.sum((ey-y_hat)**2)\n",
        "                      reg =  self.L2reg_const/2*sum(s)\n",
        "                      error += sqrd + reg \n",
        "                else:\n",
        "                      cross =-math.log(y_hat[Y[i]])\n",
        "                      reg = self.L2reg_const/2*sum(s)\n",
        "                      error += cross + reg\n",
        "\n",
        "                delW,delb = self.backward_propagation(A,H,y_hat,Y[i],X[i],loss_type)\n",
        "                res=np.argmax(y_hat)\n",
        "                if(res == Y[i]):\n",
        "                    correct +=1\n",
        "                \n",
        "                for i in range(self.Number_of_Layers):\n",
        "                    lrdelw = learning_rate*delW[i]\n",
        "                    self.W[i] = self.W[i] - lrdelw\n",
        "                    lrdelb = learning_rate*delb[i]\n",
        "                    self.b[i] = self.b[i] - lrdelb\n",
        "\n",
        "            v_error, v_accruracy = self.val_loss_and_accuracy(val_images, val_labels,loss_type)\n",
        "            sizex=X.shape[0]\n",
        "            error =error/sizex\n",
        "            sizexacc= X.shape[0]\n",
        "            accuracy = correct/sizexacc*100\n",
        "            wandb.log({'epoch' : j, 'train_loss' : error, 'train_accuracy' : accuracy,'valid_loss' : v_error,'valid_accuracy' : v_accruracy})\n",
        "\n",
        "\n",
        "    def momentum_gradient_descent(self,X, Y, val_images,val_labels, learning_rate, max_epochs,batch_size, loss_type,gamma = 0.6):\n",
        "        number_of_input=self.Size_of_Input\n",
        "        number_of_layers=self.Number_of_Layers\n",
        "        neuron=self.Number_of_Neuron_each_Layer\n",
        "        updateW, updateb = self.initialize(number_of_input,number_of_layers,neuron)\n",
        "\n",
        "        for j in range(max_epochs):\n",
        "            correct = 0\n",
        "            error = 0\n",
        "\n",
        "            delW, delb = self.initialize(number_of_input, number_of_layers,neuron)\n",
        "            xsize=X.shape[0]\n",
        "            \n",
        "            for i in range(X.shape[0]):\n",
        "                features=X[i]\n",
        "                A,H,y_hat = self.forward_propagation(features)\n",
        "                upW=self.W\n",
        "                s = [x.sum() for x in upW]\n",
        "                ey = np.zeros(self.Number_of_Neuron_each_Layer[-1])\n",
        "                ey[Y[i]] = 1\n",
        "                if loss_type == \"squared_error\":\n",
        "                      sqrd = 0.5*np.sum((ey-y_hat)**2)\n",
        "                      reg =  self.L2reg_const/2*sum(s)\n",
        "                      error += sqrd + reg \n",
        "                else : \n",
        "                     cross = -math.log(y_hat[Y[i]])\n",
        "                     reg = self.L2reg_const/2*sum(s)\n",
        "                     error += cross + reg\n",
        "                \n",
        "                w,b = self.backward_propagation(A,H,y_hat,Y[i],X[i],loss_type)\n",
        "\n",
        "                for k in range( number_of_layers):\n",
        "                    prevdelW = delW[k]\n",
        "                    delW[k]  = prevdelW + w[k]\n",
        "                    prevdelB = delb[k]\n",
        "                    delb[k]  = prevdelB + b[k]\n",
        "\n",
        "                for k in range( number_of_layers):\n",
        "                    gammaupW = gamma*updateW[k]\n",
        "                    lrdelw = learning_rate*delW[k]\n",
        "                    updateW[k] = gammaupW + learning_rate*delW[k]  \n",
        "\n",
        "                    gammaupB = gamma*updateb[k]\n",
        "                    lrdelb = learning_rate*delb[k]\n",
        "                    updateb[k] = gammaupB + lrdelb\n",
        "                temp=i%batch_size\n",
        "                if  (temp == 0 and i!=0) or i==xsize-1:\n",
        "                    delW, delb = self.initialize(number_of_input, number_of_layers,neuron)\n",
        "                    for k in range( number_of_layers):\n",
        "                        prevW1 = self.W[k] \n",
        "                        self.W[k] = prevW1 -updateW[k]\n",
        "                        prevB1 = self.b[k]  \n",
        "                        self.b[k] = prevB1 -updateb[k]\n",
        "                res = np.argmax(y_hat)\n",
        "                if(res == Y[i]):\n",
        "                    correct +=1\n",
        "\n",
        "                \n",
        "            v_error, v_accruracy = self.val_loss_and_accuracy(val_images, val_labels,loss_type)\n",
        "            sizex=X.shape[0]\n",
        "            error =error/sizex\n",
        "            sizexacc= X.shape[0]\n",
        "            accuracy = correct/sizexacc*100\n",
        "            wandb.log({'epoch' : j, 'train_loss' : error, 'train_accuracy' : accuracy,'valid_loss' : v_error,'valid_accuracy' : v_accruracy})\n",
        "\n",
        "\n",
        "    def nesterov_accelerated_gradient_descent(self, X, Y, val_images,val_labels, learning_rate, max_epochs,batch_size,loss_type ,gamma = 0.5):\n",
        "        number_of_input= self.Size_of_Input\n",
        "        layers_size=self.Number_of_Layers\n",
        "        neurons=self.Number_of_Neuron_each_Layer\n",
        "        updateW, updateb = self.initialize( number_of_input, layers_size,neurons)\n",
        "        lookaheadW, lookaheadb = self.initialize( number_of_input,  layers_size,neurons)\n",
        "        thetaW, thetab = self.initialize( number_of_input, layers_size,neurons)\n",
        "\n",
        "        for j in range(max_epochs):\n",
        "            correct = 0\n",
        "            error = 0\n",
        "\n",
        "            delW, delb = self.initialize(number_of_input,layers_size,neurons)\n",
        "                \n",
        "            for k in range(layers_size):\n",
        "                thetaW[k] = self.W[k]\n",
        "                thetab[k] = self.b[k]\n",
        "\n",
        "            for k in range(layers_size):\n",
        "                gammaupW=gamma*updateW[k]\n",
        "                lookaheadW[k] = thetaW[k] - gammaupW \n",
        "                gammaupB=gamma*updateb[k]\n",
        "                lookaheadb[k] = thetab[k] - gammaupB\n",
        "                self.W[k] = lookaheadW[k]\n",
        "                self.b[k] = lookaheadb[k]\n",
        "\n",
        "            xsize=X.shape[0]\n",
        "            for i in range(xsize):\n",
        "                A,H,y_hat = self.forward_propagation(X[i])\n",
        "                Wup=self.W\n",
        "                s = [x.sum() for x in Wup ]\n",
        "               # cross=-math.log(y_hat[Y[i]])\n",
        "               # regu= self.L2reg_const/2*sum(s)\n",
        "                #error += cross + regu\n",
        "                ey = np.zeros(self.Number_of_Neuron_each_Layer[-1])\n",
        "                ey[Y[i]] = 1\n",
        "                if loss_type == \"squared_error\":\n",
        "                      sqrd = 0.5*np.sum((ey-y_hat)**2)\n",
        "                      reg =  self.L2reg_const/2*sum(s)\n",
        "                      error += sqrd + reg \n",
        "                else : \n",
        "                    cross = -math.log(y_hat[Y[i]])\n",
        "                    reg = self.L2reg_const/2*sum(s)\n",
        "                    error += cross + reg\n",
        "                w,b = self.backward_propagation(A,H,y_hat,Y[i],X[i],loss_type)\n",
        "\n",
        "                for k in range(layers_size):\n",
        "                    prevdW=delW[k]\n",
        "                    delW[k] =prevdW + w[k]\n",
        "                    prevdB=delb[k]\n",
        "                    delb[k] =prevdB + b[k]\n",
        "\n",
        "                for k in range( layers_size):\n",
        "                    gammaW = gamma*updateW[k]\n",
        "                    lrdelW= learning_rate*delW[k] \n",
        "                    updateW[k] =  gammaW + lrdelW\n",
        "\n",
        "                    gammab =   gamma*updateb[k]\n",
        "                    lrdelb=    learning_rate*delb[k]\n",
        "                    updateb[k] = gammab +  lrdelb\n",
        "\n",
        "                temp=i%batch_size\n",
        "                if  (temp == 0 and i!=0) or i==xsize-1:\n",
        "                    delW, delb = self.initialize(self.Size_of_Input,layers_size,self.Number_of_Neuron_each_Layer)\n",
        "                    for k in range(layers_size):\n",
        "                        befW = self.W[k]\n",
        "                        self.W[k] = befW -updateW[k] \n",
        "                        befB = self.b[k]\n",
        "                        self.b[k] =befB -updateb[k]\n",
        "                res=np.argmax(y_hat)\n",
        "                if(res == Y[i]):\n",
        "                    correct +=1\n",
        "            \n",
        "           # error /= X.shape[0]\n",
        "           # accuracy = correct/X.shape[0]*100\n",
        "           # v_error, v_accruracy = self.val_loss_and_accuracy(val_images, val_labels)\n",
        "            v_error, v_accruracy = self.val_loss_and_accuracy(val_images, val_labels,loss_type)\n",
        "            sizex=X.shape[0]\n",
        "            error =error/sizex\n",
        "            sizexacc= X.shape[0]\n",
        "            accuracy = correct/sizexacc*100\n",
        "            wandb.log({'epoch' : j, 'train_loss' : error, 'train_accuracy' : accuracy,'valid_loss' : v_error,'valid_accuracy' : v_accruracy})\n",
        "\n",
        "\n",
        "\n",
        "    def rmsprop(self,X, Y, val_images,val_labels, learning_rate, max_epochs,batch_size,loss_type, beta = 0.89, epsilon = 1e-6):\n",
        "        number_of_inputs=self.Size_of_Input\n",
        "        layers_size=self.Number_of_Layers\n",
        "        neurons=self.Number_of_Neuron_each_Layer\n",
        "        v_W, v_b = self.initialize(number_of_inputs,layers_size,neurons)\n",
        "\n",
        "        for j in range(max_epochs):\n",
        "            error = 0\n",
        "            correct = 0\n",
        "            xsize=X.shape[0]\n",
        "\n",
        "            delW, delb = self.initialize(number_of_inputs,layers_size,neurons)\n",
        "    \n",
        "            for i in range(xsize):\n",
        "                val= X[i]\n",
        "                A,H,y_hat = self.forward_propagation(val)\n",
        "                Wup=self.W\n",
        "                s = [x.sum() for x in Wup ]\n",
        "                #cross= -math.log(y_hat[Y[i]])\n",
        "               # reg= self.L2reg_const/2*sum(s)\n",
        "                #error += cross  + reg\n",
        "                ey = np.zeros(self.Number_of_Neuron_each_Layer[-1])\n",
        "                ey[Y[i]] = 1\n",
        "                if loss_type == \"squared_error\":\n",
        "                      sqrd = 0.5*np.sum((ey-y_hat)**2)\n",
        "                      reg =  self.L2reg_const/2*sum(s)\n",
        "                      error += sqrd + reg \n",
        "                else : \n",
        "                    cross = -math.log(y_hat[Y[i]])\n",
        "                    reg = self.L2reg_const/2*sum(s)\n",
        "                    error += cross + reg\n",
        "\n",
        "                w,b = self.backward_propagation(A,H,y_hat,Y[i],X[i],loss_type)\n",
        "\n",
        "                for k in range(layers_size):\n",
        "                    prevdelW = delW[k]\n",
        "                    delW[k]  = prevdelW + w[k]\n",
        "                    prevdelB = delb[k]\n",
        "                    delb[k]  = prevdelB +  b[k]\n",
        "                res=np.argmax(y_hat)\n",
        "                if(res == Y[i]):\n",
        "                    correct +=1\n",
        "\n",
        "                for k in range(layers_size):\n",
        "                    betavw1=beta*v_W[k]\n",
        "                    betavw2=(1-beta)*delW[k]**2 \n",
        "                    v_W[k] = betavw1  + betavw2 \n",
        "\n",
        "                    betavb1=  beta*v_b[k]\n",
        "                    betavb2=  (1-beta)*delb[k]**2 \n",
        "                    v_b[k] = betavb1 + betavb2\n",
        "         \n",
        "                temp= i%batch_size\n",
        "                if  (temp== 0 and i!=0) or i==xsize-1:\n",
        "                    for k in range(layers_size):\n",
        "                        betavw1= beta*v_W[k]\n",
        "                        betavw2= (1-beta)*delW[k]**2  \n",
        "                        v_W[k] =  betavw1 +  betavw2\n",
        "\n",
        "                        betavb1=  beta*v_b[k]   \n",
        "                        betavb2=  (1-beta)*delb[k]**2\n",
        "                        v_b[k] = betavb1 + betavb2\n",
        "                    for k in range(layers_size):\n",
        "                        lrdelw=(learning_rate*delW[k])\n",
        "                        sqrtvW=np.sqrt(v_W[k] + epsilon)\n",
        "                        self.W[k] = self.W[k] - lrdelw/sqrtvW\n",
        "\n",
        "                        lrdelb=(learning_rate*delb[k])\n",
        "                        sqrtvB=np.sqrt(v_b[k] + epsilon)\n",
        "                        self.b[k] = self.b[k] - lrdelb/sqrtvB\n",
        "                    delW, delb = self.initialize(number_of_inputs,layers_size,neurons) \n",
        "            \n",
        "\n",
        "            v_error, v_accruracy = self.val_loss_and_accuracy(val_images, val_labels,loss_type)\n",
        "            sizex=X.shape[0]\n",
        "            error =error/sizex\n",
        "            sizexacc= X.shape[0]\n",
        "            accuracy = correct/sizexacc*100\n",
        "            wandb.log({'epoch' : j, 'train_loss' : error, 'train_accuracy' : accuracy,'valid_loss' : v_error,'valid_accuracy' : v_accruracy})\n",
        "\n",
        "\n",
        "    \n",
        "    def adam(self,X, Y, val_images,val_labels, learning_rate, max_epochs,batch_size, loss_type,beta1 = 0.89,beta2 = 0.989,epsilon = 1e-8):\n",
        "        number_of_input = self.Size_of_Input\n",
        "        number_of_layers= self.Number_of_Layers\n",
        "        neurons= self.Number_of_Neuron_each_Layer\n",
        "        m_W, m_b = self.initialize( number_of_input,number_of_layers,neurons)\n",
        "        m_hat_W, m_hat_b = self.initialize(  number_of_input,number_of_layers,neurons)\n",
        "        v_W, v_b = self.initialize( number_of_input,number_of_layers,neurons)\n",
        "        v_hat_W, v_hat_b = self.initialize( number_of_input,number_of_layers,neurons)\n",
        "        \n",
        "        for j in range(0, max_epochs):\n",
        "            correct = 0\n",
        "            error = 0\n",
        "            xsize = X.shape[0]\n",
        "            delW, delb = self.initialize( number_of_input,number_of_layers,neurons)\n",
        "            \n",
        "            for i in range(xsize):\n",
        "                features=X[i]\n",
        "                A,H,y_hat = self.forward_propagation(features)\n",
        "                upW = self.W\n",
        "                s = [x.sum() for x in upW]\n",
        "               # cross = -math.log(y_hat[Y[i]])\n",
        "                #reg = self.L2reg_const/2*sum(s)\n",
        "               # error += cross + reg\n",
        "                ey = np.zeros(self.Number_of_Neuron_each_Layer[-1])\n",
        "                ey[Y[i]] = 1\n",
        "                if loss_type == \"squared_error\":\n",
        "                      sqrd = 0.5*np.sum((ey-y_hat)**2)\n",
        "                      reg =  self.L2reg_const/2*sum(s)\n",
        "                      error += sqrd + reg \n",
        "                else : \n",
        "                    cross = -math.log(y_hat[Y[i]])\n",
        "                    reg = self.L2reg_const/2*sum(s)\n",
        "                    error += cross + reg\n",
        "               \n",
        "\n",
        "                w,b = self.backward_propagation(A,H,y_hat,Y[i],X[i],loss_type)\n",
        "\n",
        "                for k in range(number_of_layers):\n",
        "                    prevdelW = delW[k]\n",
        "                    delW[k] = prevdelW + w[k]\n",
        "                    prevdelB = delb[k]\n",
        "                    delb[k] = prevdelB + b[k]\n",
        "                res = np.argmax(y_hat) \n",
        "                if(res == Y[i]):\n",
        "                    correct +=1\n",
        "                temp = i%batch_size\n",
        "                if  (temp == 0 and i!=0) or i==xsize-1:\n",
        "                    for k in range(number_of_layers):\n",
        "                        betavW1 =  beta2*v_W[k]\n",
        "                        betavW2 = (1-beta2)*delW[k]*delW[k]\n",
        "                        v_W[k] =   betavW1 + betavW2\n",
        "\n",
        "                        betavB1 = beta2*v_b[k]\n",
        "                        betavB2=  (1-beta2)*delb[k]*delb[k]\n",
        "                        v_b[k] =  betavB1 + betavB2\n",
        "\n",
        "                        betamW1 = beta1*m_W[k]\n",
        "                        betadelw =  (1-beta1)*delW[k]\n",
        "                        m_W[k] = betamW1 + betadelw\n",
        "\n",
        "                        betamb1 = beta1*m_b[k]\n",
        "                        betadelb= beta1*m_b[k]\n",
        "                        m_b[k] = betamb1 + betadelb\n",
        "\n",
        "                        powbeta1= (math.pow(beta1,j))\n",
        "                        m_hat_W[k] = m_W[k]/ powbeta1\n",
        "                        m_hat_b[k] = m_b[k]/powbeta1\n",
        "\n",
        "                        powbeta2= (math.pow(beta2,j))\n",
        "                        v_hat_W[k] = v_W[k]/powbeta2\n",
        "                        v_hat_b[k] = v_b[k]/powbeta2\n",
        "                    \n",
        "                    for k in range(number_of_layers):\n",
        "                        lrW = learning_rate*m_hat_W[k]\n",
        "                        sqrtvW = np.sqrt(v_hat_W[k] + epsilon) \n",
        "                        self.W[k] = self.W[k] - (lrW)/sqrtvW\n",
        "\n",
        "                        lrb = learning_rate*m_hat_b[k]\n",
        "                        sqrtvb = np.sqrt(v_hat_b[k] + epsilon)\n",
        "                        self.b[k] = self.b[k] - (lrb)/sqrtvb\n",
        "                    delW, delb = self.initialize(number_of_input,number_of_layers,neurons)\n",
        "                                \n",
        "            v_error, v_accruracy = self.val_loss_and_accuracy(val_images, val_labels,loss_type)\n",
        "            sizex=X.shape[0]\n",
        "            error =error/sizex\n",
        "            sizexacc= X.shape[0]\n",
        "            accuracy = correct/sizexacc*100\n",
        "            wandb.log({'epoch' : j, 'train_loss' : error, 'train_accuracy' : accuracy,'valid_loss' : v_error,'valid_accuracy' : v_accruracy})\n",
        "    \n",
        "    def nadam(self, X, Y, val_images,val_labels, learning_rate, max_epochs,batch_size, loss_type,beta1 = 0.89,beta2 = 0.989,epsilon = 1e-8):\n",
        "        number_of_inputs=self.Size_of_Input\n",
        "        layers_size=self.Number_of_Layers\n",
        "        neurons=self.Number_of_Neuron_each_Layer\n",
        "        v_W, v_b = self.initialize(number_of_inputs,layers_size,neurons)\n",
        "        v_hat_W, v_hat_b = self.initialize(number_of_inputs,layers_size,neurons)\n",
        "        m_W, m_b = self.initialize(number_of_inputs,layers_size,neurons)\n",
        "        m_hat_W, m_hat_b = self.initialize(number_of_inputs,layers_size,neurons)\n",
        "\n",
        "        \n",
        "        for j in range(1,max_epochs):\n",
        "            error = 0\n",
        "            correct = 0\n",
        "\n",
        "            sizex=X.shape[0]\n",
        "            delW, delb = self.initialize(self.Size_of_Input,self.Number_of_Layers,self.Number_of_Neuron_each_Layer)\n",
        "            \n",
        "            for i in range(sizex):\n",
        "                A,H,y_hat = self.forward_propagation(X[i])\n",
        "                \n",
        "                s = [x.sum() for x in self.W]\n",
        "              # # crosse=-math.log(y_hat[Y[i]])\n",
        "                #regu=self.L2reg_const/2*sum(s)\n",
        "               # error += crosse + regu\n",
        "                ey = np.zeros(self.Number_of_Neuron_each_Layer[-1])\n",
        "                ey[Y[i]] = 1\n",
        "                if loss_type == \"squared_error\":\n",
        "                      sqrd = 0.5*np.sum((ey-y_hat)**2)\n",
        "                      reg =  self.L2reg_const/2*sum(s)\n",
        "                      error += sqrd + reg \n",
        "                else : \n",
        "                    cross = -math.log(y_hat[Y[i]])\n",
        "                    reg = self.L2reg_const/2*sum(s)\n",
        "                    error += cross + reg\n",
        "\n",
        "                w,b = self.backward_propagation(A,H,y_hat,Y[i],X[i],loss_type)\n",
        "\n",
        "                for k in range(layers_size):\n",
        "                    prevdelW= delW[k]\n",
        "                    delW[k] = prevdelW + w[k]\n",
        "                    prevdelB= delb[k]\n",
        "                    delb[k] = prevdelB+  b[k]\n",
        "                res=np.argmax(y_hat) \n",
        "                if(res== Y[i]):\n",
        "                    correct +=1\n",
        "                temp=i%batch_size\n",
        "\n",
        "                if  (temp == 0 and i!=0) or i==sizex-1:\n",
        "                    for k in range(layers_size):\n",
        "                        betavW1= beta2*v_W[k]\n",
        "                        betavW2= (1-beta2)*delW[k]**2\n",
        "                        v_W[k] =  betavW1 + betavW2\n",
        "\n",
        "                        betavB1=beta2*v_b[k]\n",
        "                        betavB2=(1-beta2)*delb[k]**2\n",
        "                        v_b[k] = betavB1  + betavB2 \n",
        "                        \n",
        "                        betamW1=beta1*m_W[k]\n",
        "                        betamW2=(1-beta1)*delW[k]\n",
        "                        m_W[k] = betamW1 + betamW2\n",
        "\n",
        "                        betamB1=beta1*m_b[k]\n",
        "                        betamB2=(1-beta1)*delb[k]\n",
        "                        m_b[k] = betamB1+ betamB2\n",
        "                        \n",
        "                        m_hat_bias= (math.pow(beta1,j))\n",
        "                        m_hat_W[k] = m_W[k]/m_hat_bias\n",
        "                        m_hat_b[k] = m_b[k]/m_hat_bias\n",
        "                        \n",
        "                        v_hat_bias = (math.pow(beta2,j))\n",
        "                        v_hat_W[k] = v_W[k]/v_hat_bias\n",
        "                        v_hat_b[k] = v_b[k]/v_hat_bias\n",
        "                    for k in range(self.Number_of_Layers):\n",
        "                        beta_mw=beta1*m_hat_W[k]\n",
        "                        beta_dw=(1-beta1)*delW[k]/(1-beta1)\n",
        "                        sqrt_dw=np.sqrt(v_hat_W[k] + epsilon)\n",
        "                        self.W[k] = self.W[k] - (learning_rate*(beta_mw + beta_dw))/sqrt_dw\n",
        "\n",
        "                        beta_mb=beta1*m_hat_b[k]\n",
        "                        beta_db=(1-beta1)*delb[k]/(1-beta1)\n",
        "                        sqrt_db=np.sqrt(v_hat_b[k] + epsilon)\n",
        "                        self.b[k] = self.b[k] - (learning_rate*(beta_mb+beta_db))/sqrt_db\n",
        "                    delW, delb = self.initialize(self.Size_of_Input,self.Number_of_Layers,self.Number_of_Neuron_each_Layer)\n",
        "                    \n",
        "\n",
        "            v_error, v_accruracy = self.val_loss_and_accuracy(val_images, val_labels,loss_type)\n",
        "            sizex=X.shape[0]\n",
        "            error =error/sizex\n",
        "            sizexacc= X.shape[0]\n",
        "            accuracy = correct/sizexacc*100\n",
        "            wandb.log({'epoch' : j, 'train_loss' : error, 'train_accuracy' : accuracy,'valid_loss' : v_error,'valid_accuracy' : v_accruracy})\n",
        "        \n",
        "    \n",
        "    def val_loss_and_accuracy(self,val_data,val_labels,loss_type):\n",
        "        val_loss = []\n",
        "        val_accuracy = []\n",
        "        val_correct = 0\n",
        "        val_error = 0\n",
        "\n",
        "        for i in range(val_data.shape[0]):\n",
        "            A,H,y_hat = self.forward_propagation(val_data[i]) \n",
        "            upW=self.W\n",
        "            s = [x.sum() for x in upW]\n",
        "            if loss_type == \"squared_error\":\n",
        "                ey = np.zeros(self.Number_of_Neuron_each_Layer[-1])\n",
        "                ey[val_labels[i]] = 1\n",
        "                error=0.5*np.sum((ey-y_hat)**2)\n",
        "                regerror= self.L2reg_const/2*sum(s)\n",
        "                val_error += error + regerror\n",
        "            else:\n",
        "                 regu=self.L2reg_const/2*sum(s)\n",
        "                 cross=-math.log(y_hat[val_labels[i]])\n",
        "                 val_error += cross + regu\n",
        "            maxi=np.argmax(y_hat)\n",
        "            if  maxi == val_labels[i]:\n",
        "                val_correct += 1\n",
        "        m=val_data.shape[0]\n",
        "        m1=val_data.shape[0]\n",
        "        return val_error/m, val_correct/m1*100\n",
        "\n",
        "\n",
        "    def test(self,test_data,test_labels):\n",
        "        correct = 0\n",
        "        y_hat = []\n",
        "        testsize=test_data.shape[0]\n",
        "        for i in range(testsize):\n",
        "\n",
        "            A,H,y = self.forward_propagation(test_data[i])\n",
        "            res=np.argmax(y)\n",
        "            if res == test_labels[i]:\n",
        "                correct += 1\n",
        "            y_hat.append(y)\n",
        "        a=np.argmax(np.array(y_hat),axis=1)\n",
        "        b=correct/test_data.shape[0]*100\n",
        "        return a,b"
      ]
    },
    {
      "cell_type": "code",
      "source": [
        "sweep_config = {\n",
        "    'method': 'random',\n",
        "    'metric': {'goal': 'maximize', 'name': 'valid_accuracy'},\n",
        "    'parameters': {'activation_function': {'values': ['sigmoid', 'tanh', 'ReLU']},\n",
        "                'batch_size': {'values': [16, 32, 64]},\n",
        "                'epochs': {'values': [5,10]},\n",
        "                'hidden_layer_size': {'values': [32,64,128]},\n",
        "                'num_of_hidden_layers': { 'values' : [1,2] },\n",
        "                'learning_rate': {'values': [0.0006,\n",
        "                                             0.005,\n",
        "                                             0.0001,\n",
        "                                             0.0005,\n",
        "                                             0.0003,\n",
        "                                             0.01]},\n",
        "                'optimizer': {'values': ['sgd',\n",
        "                                         'momentum',\n",
        "                                         'nag',\n",
        "                                         'rmsprop',\n",
        "                                         'adam',\n",
        "                                         'nadam']},\n",
        "                'weight_decay': {'values': [0, 0.0005,0.5]},\n",
        "                'weight_initialization': {'values': ['random', 'xavier']},\n",
        "                'loss_type': {'values': ['squared_error', 'cross_entropy']}}}"
      ],
      "metadata": {
        "id": "FJ3PW_lnqdmx"
      },
      "execution_count": 50,
      "outputs": []
    },
    {
      "cell_type": "code",
      "execution_count": 51,
      "metadata": {
        "id": "lFE8OTH8FB2r"
      },
      "outputs": [],
      "source": [
        "def train():\n",
        "    var1 = wandb.init()\n",
        "    var2 = var1.config\n",
        "    nsize = normalized.shape[1]\n",
        "    obj = NeuralNet(nsize, list(itertools.chain(*[[var2.hidden_layer_size]*var2.num_of_hidden_layers, [10]])), var2.num_of_hidden_layers+1, var2.activation_function, var2.weight_initialization, var2.weight_decay)\n",
        "    obj.optimize(normalized, train_labels, val_images, val_labels, var2.optimizer, var2.learning_rate, var2.epochs, var2.batch_size, var2.loss_type)"
      ]
    },
    {
      "cell_type": "code",
      "execution_count": 53,
      "metadata": {
        "colab": {
          "base_uri": "https://localhost:8080/"
        },
        "id": "c1Fk-bEXFGD4",
        "outputId": "11b3ec27-2bf2-4492-a9cb-47970d07bcbc"
      },
      "outputs": [
        {
          "output_type": "stream",
          "name": "stdout",
          "text": [
            "Create sweep with ID: b4894dmx\n",
            "Sweep URL: https://wandb.ai/harshvrma/Assignment_1_finals1111111/sweeps/b4894dmx\n"
          ]
        }
      ],
      "source": [
        "\n",
        "\n",
        "sweep_id = wandb.sweep(sweep_config, project='Assignment_1_finals1111111')"
      ]
    },
    {
      "cell_type": "code",
      "execution_count": 54,
      "metadata": {
        "id": "JeDcnDZaFNif",
        "colab": {
          "base_uri": "https://localhost:8080/",
          "height": 1000,
          "referenced_widgets": [
            "19e63f3f05b34249b12061aff63a6d82",
            "fa66be212a0b45ee88c0922b15f052e3",
            "e697f544c65149a1a0ba55c1968e90a3",
            "0247d18e7cea4eb7a9301e838bdbf45e",
            "80ccdbdd0b3541eb96635096d6b01f37",
            "61925964b39c424d98e06cdfd0801929",
            "b06a61c06d5c452cb2cd8924e96fd819",
            "f29d00ce976e42c489aa914094e8dc00"
          ]
        },
        "outputId": "b28b17e6-55b0-4d6e-b841-439af7a4b0dd"
      },
      "outputs": [
        {
          "output_type": "stream",
          "name": "stderr",
          "text": [
            "\u001b[34m\u001b[1mwandb\u001b[0m: Agent Starting Run: erldbj0q with config:\n",
            "\u001b[34m\u001b[1mwandb\u001b[0m: \tactivation_function: tanh\n",
            "\u001b[34m\u001b[1mwandb\u001b[0m: \tbatch_size: 16\n",
            "\u001b[34m\u001b[1mwandb\u001b[0m: \tepochs: 10\n",
            "\u001b[34m\u001b[1mwandb\u001b[0m: \thidden_layer_size: 64\n",
            "\u001b[34m\u001b[1mwandb\u001b[0m: \tlearning_rate: 0.005\n",
            "\u001b[34m\u001b[1mwandb\u001b[0m: \tloss_type: squared_error\n",
            "\u001b[34m\u001b[1mwandb\u001b[0m: \tnum_of_hidden_layers: 1\n",
            "\u001b[34m\u001b[1mwandb\u001b[0m: \toptimizer: rmsprop\n",
            "\u001b[34m\u001b[1mwandb\u001b[0m: \tweight_decay: 0\n",
            "\u001b[34m\u001b[1mwandb\u001b[0m: \tweight_initialization: xavier\n"
          ]
        },
        {
          "output_type": "display_data",
          "data": {
            "text/plain": [
              "<IPython.core.display.HTML object>"
            ],
            "text/html": [
              "Tracking run with wandb version 0.14.0"
            ]
          },
          "metadata": {}
        },
        {
          "output_type": "display_data",
          "data": {
            "text/plain": [
              "<IPython.core.display.HTML object>"
            ],
            "text/html": [
              "Run data is saved locally in <code>/content/wandb/run-20230318_140718-erldbj0q</code>"
            ]
          },
          "metadata": {}
        },
        {
          "output_type": "display_data",
          "data": {
            "text/plain": [
              "<IPython.core.display.HTML object>"
            ],
            "text/html": [
              "Syncing run <strong><a href='https://wandb.ai/harshvrma/Assignment_1_finals1111111/runs/erldbj0q' target=\"_blank\">glad-sweep-1</a></strong> to <a href='https://wandb.ai/harshvrma/Assignment_1_finals1111111' target=\"_blank\">Weights & Biases</a> (<a href='https://wandb.me/run' target=\"_blank\">docs</a>)<br/>Sweep page: <a href='https://wandb.ai/harshvrma/Assignment_1_finals1111111/sweeps/b4894dmx' target=\"_blank\">https://wandb.ai/harshvrma/Assignment_1_finals1111111/sweeps/b4894dmx</a>"
            ]
          },
          "metadata": {}
        },
        {
          "output_type": "display_data",
          "data": {
            "text/plain": [
              "<IPython.core.display.HTML object>"
            ],
            "text/html": [
              " View project at <a href='https://wandb.ai/harshvrma/Assignment_1_finals1111111' target=\"_blank\">https://wandb.ai/harshvrma/Assignment_1_finals1111111</a>"
            ]
          },
          "metadata": {}
        },
        {
          "output_type": "display_data",
          "data": {
            "text/plain": [
              "<IPython.core.display.HTML object>"
            ],
            "text/html": [
              " View sweep at <a href='https://wandb.ai/harshvrma/Assignment_1_finals1111111/sweeps/b4894dmx' target=\"_blank\">https://wandb.ai/harshvrma/Assignment_1_finals1111111/sweeps/b4894dmx</a>"
            ]
          },
          "metadata": {}
        },
        {
          "output_type": "display_data",
          "data": {
            "text/plain": [
              "<IPython.core.display.HTML object>"
            ],
            "text/html": [
              " View run at <a href='https://wandb.ai/harshvrma/Assignment_1_finals1111111/runs/erldbj0q' target=\"_blank\">https://wandb.ai/harshvrma/Assignment_1_finals1111111/runs/erldbj0q</a>"
            ]
          },
          "metadata": {}
        },
        {
          "output_type": "display_data",
          "data": {
            "text/plain": [
              "<IPython.core.display.HTML object>"
            ],
            "text/html": [
              "Waiting for W&B process to finish... <strong style=\"color:green\">(success).</strong>"
            ]
          },
          "metadata": {}
        },
        {
          "output_type": "display_data",
          "data": {
            "text/plain": [
              "<IPython.core.display.HTML object>"
            ],
            "text/html": [
              "<style>\n",
              "    table.wandb td:nth-child(1) { padding: 0 10px; text-align: left ; width: auto;} td:nth-child(2) {text-align: left ; width: 100%}\n",
              "    .wandb-row { display: flex; flex-direction: row; flex-wrap: wrap; justify-content: flex-start; width: 100% }\n",
              "    .wandb-col { display: flex; flex-direction: column; flex-basis: 100%; flex: 1; padding: 10px; }\n",
              "    </style>\n",
              "<div class=\"wandb-row\"><div class=\"wandb-col\"><h3>Run history:</h3><br/><table class=\"wandb\"><tr><td>epoch</td><td>▁▂▃▃▄▅▆▆▇█</td></tr><tr><td>train_accuracy</td><td>▁▇███▇██▇▇</td></tr><tr><td>train_loss</td><td>█▂▁▁▁▂▁▂▂▂</td></tr><tr><td>valid_accuracy</td><td>█▆▆▅▁▂▁▂▂▂</td></tr><tr><td>valid_loss</td><td>▁▃▁▃▆▆███▇</td></tr></table><br/></div><div class=\"wandb-col\"><h3>Run summary:</h3><br/><table class=\"wandb\"><tr><td>epoch</td><td>9</td></tr><tr><td>train_accuracy</td><td>84.99074</td></tr><tr><td>train_loss</td><td>0.11116</td></tr><tr><td>valid_accuracy</td><td>84.0</td></tr><tr><td>valid_loss</td><td>0.12027</td></tr></table><br/></div></div>"
            ]
          },
          "metadata": {}
        },
        {
          "output_type": "display_data",
          "data": {
            "text/plain": [
              "<IPython.core.display.HTML object>"
            ],
            "text/html": [
              " View run <strong style=\"color:#cdcd00\">glad-sweep-1</strong> at: <a href='https://wandb.ai/harshvrma/Assignment_1_finals1111111/runs/erldbj0q' target=\"_blank\">https://wandb.ai/harshvrma/Assignment_1_finals1111111/runs/erldbj0q</a><br/>Synced 4 W&B file(s), 0 media file(s), 0 artifact file(s) and 0 other file(s)"
            ]
          },
          "metadata": {}
        },
        {
          "output_type": "display_data",
          "data": {
            "text/plain": [
              "<IPython.core.display.HTML object>"
            ],
            "text/html": [
              "Find logs at: <code>./wandb/run-20230318_140718-erldbj0q/logs</code>"
            ]
          },
          "metadata": {}
        },
        {
          "output_type": "stream",
          "name": "stderr",
          "text": [
            "\u001b[34m\u001b[1mwandb\u001b[0m: Agent Starting Run: ve6m7lo0 with config:\n",
            "\u001b[34m\u001b[1mwandb\u001b[0m: \tactivation_function: tanh\n",
            "\u001b[34m\u001b[1mwandb\u001b[0m: \tbatch_size: 16\n",
            "\u001b[34m\u001b[1mwandb\u001b[0m: \tepochs: 10\n",
            "\u001b[34m\u001b[1mwandb\u001b[0m: \thidden_layer_size: 32\n",
            "\u001b[34m\u001b[1mwandb\u001b[0m: \tlearning_rate: 0.01\n",
            "\u001b[34m\u001b[1mwandb\u001b[0m: \tloss_type: cross_entropy\n",
            "\u001b[34m\u001b[1mwandb\u001b[0m: \tnum_of_hidden_layers: 1\n",
            "\u001b[34m\u001b[1mwandb\u001b[0m: \toptimizer: rmsprop\n",
            "\u001b[34m\u001b[1mwandb\u001b[0m: \tweight_decay: 0\n",
            "\u001b[34m\u001b[1mwandb\u001b[0m: \tweight_initialization: xavier\n"
          ]
        },
        {
          "output_type": "display_data",
          "data": {
            "text/plain": [
              "<IPython.core.display.HTML object>"
            ],
            "text/html": [
              "Tracking run with wandb version 0.14.0"
            ]
          },
          "metadata": {}
        },
        {
          "output_type": "display_data",
          "data": {
            "text/plain": [
              "<IPython.core.display.HTML object>"
            ],
            "text/html": [
              "Run data is saved locally in <code>/content/wandb/run-20230318_143446-ve6m7lo0</code>"
            ]
          },
          "metadata": {}
        },
        {
          "output_type": "display_data",
          "data": {
            "text/plain": [
              "<IPython.core.display.HTML object>"
            ],
            "text/html": [
              "Syncing run <strong><a href='https://wandb.ai/harshvrma/Assignment_1_finals1111111/runs/ve6m7lo0' target=\"_blank\">ethereal-sweep-2</a></strong> to <a href='https://wandb.ai/harshvrma/Assignment_1_finals1111111' target=\"_blank\">Weights & Biases</a> (<a href='https://wandb.me/run' target=\"_blank\">docs</a>)<br/>Sweep page: <a href='https://wandb.ai/harshvrma/Assignment_1_finals1111111/sweeps/b4894dmx' target=\"_blank\">https://wandb.ai/harshvrma/Assignment_1_finals1111111/sweeps/b4894dmx</a>"
            ]
          },
          "metadata": {}
        },
        {
          "output_type": "display_data",
          "data": {
            "text/plain": [
              "<IPython.core.display.HTML object>"
            ],
            "text/html": [
              " View project at <a href='https://wandb.ai/harshvrma/Assignment_1_finals1111111' target=\"_blank\">https://wandb.ai/harshvrma/Assignment_1_finals1111111</a>"
            ]
          },
          "metadata": {}
        },
        {
          "output_type": "display_data",
          "data": {
            "text/plain": [
              "<IPython.core.display.HTML object>"
            ],
            "text/html": [
              " View sweep at <a href='https://wandb.ai/harshvrma/Assignment_1_finals1111111/sweeps/b4894dmx' target=\"_blank\">https://wandb.ai/harshvrma/Assignment_1_finals1111111/sweeps/b4894dmx</a>"
            ]
          },
          "metadata": {}
        },
        {
          "output_type": "display_data",
          "data": {
            "text/plain": [
              "<IPython.core.display.HTML object>"
            ],
            "text/html": [
              " View run at <a href='https://wandb.ai/harshvrma/Assignment_1_finals1111111/runs/ve6m7lo0' target=\"_blank\">https://wandb.ai/harshvrma/Assignment_1_finals1111111/runs/ve6m7lo0</a>"
            ]
          },
          "metadata": {}
        },
        {
          "output_type": "display_data",
          "data": {
            "text/plain": [
              "<IPython.core.display.HTML object>"
            ],
            "text/html": [
              "Waiting for W&B process to finish... <strong style=\"color:green\">(success).</strong>"
            ]
          },
          "metadata": {}
        },
        {
          "output_type": "display_data",
          "data": {
            "text/plain": [
              "<IPython.core.display.HTML object>"
            ],
            "text/html": [
              "<style>\n",
              "    table.wandb td:nth-child(1) { padding: 0 10px; text-align: left ; width: auto;} td:nth-child(2) {text-align: left ; width: 100%}\n",
              "    .wandb-row { display: flex; flex-direction: row; flex-wrap: wrap; justify-content: flex-start; width: 100% }\n",
              "    .wandb-col { display: flex; flex-direction: column; flex-basis: 100%; flex: 1; padding: 10px; }\n",
              "    </style>\n",
              "<div class=\"wandb-row\"><div class=\"wandb-col\"><h3>Run history:</h3><br/><table class=\"wandb\"><tr><td>epoch</td><td>▁▂▃▃▄▅▆▆▇█</td></tr><tr><td>train_accuracy</td><td>▁▅▅▆▆▇▇███</td></tr><tr><td>train_loss</td><td>█▅▄▃▃▂▂▂▂▁</td></tr><tr><td>valid_accuracy</td><td>▁▄▅▅▅▅▆█▇▇</td></tr><tr><td>valid_loss</td><td>█▅▃▃▅▁▃▃▅▂</td></tr></table><br/></div><div class=\"wandb-col\"><h3>Run summary:</h3><br/><table class=\"wandb\"><tr><td>epoch</td><td>9</td></tr><tr><td>train_accuracy</td><td>86.68333</td></tr><tr><td>train_loss</td><td>0.46077</td></tr><tr><td>valid_accuracy</td><td>85.25</td></tr><tr><td>valid_loss</td><td>0.50556</td></tr></table><br/></div></div>"
            ]
          },
          "metadata": {}
        },
        {
          "output_type": "display_data",
          "data": {
            "text/plain": [
              "<IPython.core.display.HTML object>"
            ],
            "text/html": [
              " View run <strong style=\"color:#cdcd00\">ethereal-sweep-2</strong> at: <a href='https://wandb.ai/harshvrma/Assignment_1_finals1111111/runs/ve6m7lo0' target=\"_blank\">https://wandb.ai/harshvrma/Assignment_1_finals1111111/runs/ve6m7lo0</a><br/>Synced 4 W&B file(s), 0 media file(s), 0 artifact file(s) and 0 other file(s)"
            ]
          },
          "metadata": {}
        },
        {
          "output_type": "display_data",
          "data": {
            "text/plain": [
              "<IPython.core.display.HTML object>"
            ],
            "text/html": [
              "Find logs at: <code>./wandb/run-20230318_143446-ve6m7lo0/logs</code>"
            ]
          },
          "metadata": {}
        },
        {
          "output_type": "stream",
          "name": "stderr",
          "text": [
            "\u001b[34m\u001b[1mwandb\u001b[0m: Agent Starting Run: cso4ejx9 with config:\n",
            "\u001b[34m\u001b[1mwandb\u001b[0m: \tactivation_function: ReLU\n",
            "\u001b[34m\u001b[1mwandb\u001b[0m: \tbatch_size: 16\n",
            "\u001b[34m\u001b[1mwandb\u001b[0m: \tepochs: 10\n",
            "\u001b[34m\u001b[1mwandb\u001b[0m: \thidden_layer_size: 64\n",
            "\u001b[34m\u001b[1mwandb\u001b[0m: \tlearning_rate: 0.0003\n",
            "\u001b[34m\u001b[1mwandb\u001b[0m: \tloss_type: squared_error\n",
            "\u001b[34m\u001b[1mwandb\u001b[0m: \tnum_of_hidden_layers: 2\n",
            "\u001b[34m\u001b[1mwandb\u001b[0m: \toptimizer: adam\n",
            "\u001b[34m\u001b[1mwandb\u001b[0m: \tweight_decay: 0.5\n",
            "\u001b[34m\u001b[1mwandb\u001b[0m: \tweight_initialization: random\n"
          ]
        },
        {
          "output_type": "display_data",
          "data": {
            "text/plain": [
              "<IPython.core.display.HTML object>"
            ],
            "text/html": [
              "Tracking run with wandb version 0.14.0"
            ]
          },
          "metadata": {}
        },
        {
          "output_type": "display_data",
          "data": {
            "text/plain": [
              "<IPython.core.display.HTML object>"
            ],
            "text/html": [
              "Run data is saved locally in <code>/content/wandb/run-20230318_144903-cso4ejx9</code>"
            ]
          },
          "metadata": {}
        },
        {
          "output_type": "display_data",
          "data": {
            "text/plain": [
              "<IPython.core.display.HTML object>"
            ],
            "text/html": [
              "Syncing run <strong><a href='https://wandb.ai/harshvrma/Assignment_1_finals1111111/runs/cso4ejx9' target=\"_blank\">cerulean-sweep-3</a></strong> to <a href='https://wandb.ai/harshvrma/Assignment_1_finals1111111' target=\"_blank\">Weights & Biases</a> (<a href='https://wandb.me/run' target=\"_blank\">docs</a>)<br/>Sweep page: <a href='https://wandb.ai/harshvrma/Assignment_1_finals1111111/sweeps/b4894dmx' target=\"_blank\">https://wandb.ai/harshvrma/Assignment_1_finals1111111/sweeps/b4894dmx</a>"
            ]
          },
          "metadata": {}
        },
        {
          "output_type": "display_data",
          "data": {
            "text/plain": [
              "<IPython.core.display.HTML object>"
            ],
            "text/html": [
              " View project at <a href='https://wandb.ai/harshvrma/Assignment_1_finals1111111' target=\"_blank\">https://wandb.ai/harshvrma/Assignment_1_finals1111111</a>"
            ]
          },
          "metadata": {}
        },
        {
          "output_type": "display_data",
          "data": {
            "text/plain": [
              "<IPython.core.display.HTML object>"
            ],
            "text/html": [
              " View sweep at <a href='https://wandb.ai/harshvrma/Assignment_1_finals1111111/sweeps/b4894dmx' target=\"_blank\">https://wandb.ai/harshvrma/Assignment_1_finals1111111/sweeps/b4894dmx</a>"
            ]
          },
          "metadata": {}
        },
        {
          "output_type": "display_data",
          "data": {
            "text/plain": [
              "<IPython.core.display.HTML object>"
            ],
            "text/html": [
              " View run at <a href='https://wandb.ai/harshvrma/Assignment_1_finals1111111/runs/cso4ejx9' target=\"_blank\">https://wandb.ai/harshvrma/Assignment_1_finals1111111/runs/cso4ejx9</a>"
            ]
          },
          "metadata": {}
        },
        {
          "output_type": "display_data",
          "data": {
            "text/plain": [
              "<IPython.core.display.HTML object>"
            ],
            "text/html": [
              "Waiting for W&B process to finish... <strong style=\"color:green\">(success).</strong>"
            ]
          },
          "metadata": {}
        },
        {
          "output_type": "display_data",
          "data": {
            "text/plain": [
              "VBox(children=(Label(value='0.001 MB of 0.008 MB uploaded (0.000 MB deduped)\\r'), FloatProgress(value=0.118433…"
            ],
            "application/vnd.jupyter.widget-view+json": {
              "version_major": 2,
              "version_minor": 0,
              "model_id": "19e63f3f05b34249b12061aff63a6d82"
            }
          },
          "metadata": {}
        },
        {
          "output_type": "display_data",
          "data": {
            "text/plain": [
              "<IPython.core.display.HTML object>"
            ],
            "text/html": [
              "<style>\n",
              "    table.wandb td:nth-child(1) { padding: 0 10px; text-align: left ; width: auto;} td:nth-child(2) {text-align: left ; width: 100%}\n",
              "    .wandb-row { display: flex; flex-direction: row; flex-wrap: wrap; justify-content: flex-start; width: 100% }\n",
              "    .wandb-col { display: flex; flex-direction: column; flex-basis: 100%; flex: 1; padding: 10px; }\n",
              "    </style>\n",
              "<div class=\"wandb-row\"><div class=\"wandb-col\"><h3>Run history:</h3><br/><table class=\"wandb\"><tr><td>epoch</td><td>▁▂▃▃▄▅▆▆▇█</td></tr><tr><td>train_accuracy</td><td>▃█▂▁▁▁▁▁▁▁</td></tr><tr><td>train_loss</td><td>▁▅████████</td></tr><tr><td>valid_accuracy</td><td>▆█▁▁▁▁▁▁▁▁</td></tr><tr><td>valid_loss</td><td>▁▇████████</td></tr></table><br/></div><div class=\"wandb-col\"><h3>Run summary:</h3><br/><table class=\"wandb\"><tr><td>epoch</td><td>9</td></tr><tr><td>train_accuracy</td><td>10.01481</td></tr><tr><td>train_loss</td><td>0.42423</td></tr><tr><td>valid_accuracy</td><td>9.95</td></tr><tr><td>valid_loss</td><td>0.48769</td></tr></table><br/></div></div>"
            ]
          },
          "metadata": {}
        },
        {
          "output_type": "display_data",
          "data": {
            "text/plain": [
              "<IPython.core.display.HTML object>"
            ],
            "text/html": [
              " View run <strong style=\"color:#cdcd00\">cerulean-sweep-3</strong> at: <a href='https://wandb.ai/harshvrma/Assignment_1_finals1111111/runs/cso4ejx9' target=\"_blank\">https://wandb.ai/harshvrma/Assignment_1_finals1111111/runs/cso4ejx9</a><br/>Synced 4 W&B file(s), 0 media file(s), 0 artifact file(s) and 0 other file(s)"
            ]
          },
          "metadata": {}
        },
        {
          "output_type": "display_data",
          "data": {
            "text/plain": [
              "<IPython.core.display.HTML object>"
            ],
            "text/html": [
              "Find logs at: <code>./wandb/run-20230318_144903-cso4ejx9/logs</code>"
            ]
          },
          "metadata": {}
        },
        {
          "output_type": "stream",
          "name": "stderr",
          "text": [
            "\u001b[34m\u001b[1mwandb\u001b[0m: Agent Starting Run: 6cj4vzsa with config:\n",
            "\u001b[34m\u001b[1mwandb\u001b[0m: \tactivation_function: tanh\n",
            "\u001b[34m\u001b[1mwandb\u001b[0m: \tbatch_size: 64\n",
            "\u001b[34m\u001b[1mwandb\u001b[0m: \tepochs: 5\n",
            "\u001b[34m\u001b[1mwandb\u001b[0m: \thidden_layer_size: 128\n",
            "\u001b[34m\u001b[1mwandb\u001b[0m: \tlearning_rate: 0.005\n",
            "\u001b[34m\u001b[1mwandb\u001b[0m: \tloss_type: cross_entropy\n",
            "\u001b[34m\u001b[1mwandb\u001b[0m: \tnum_of_hidden_layers: 1\n",
            "\u001b[34m\u001b[1mwandb\u001b[0m: \toptimizer: nag\n",
            "\u001b[34m\u001b[1mwandb\u001b[0m: \tweight_decay: 0\n",
            "\u001b[34m\u001b[1mwandb\u001b[0m: \tweight_initialization: xavier\n"
          ]
        },
        {
          "output_type": "display_data",
          "data": {
            "text/plain": [
              "<IPython.core.display.HTML object>"
            ],
            "text/html": [
              "Tracking run with wandb version 0.14.0"
            ]
          },
          "metadata": {}
        },
        {
          "output_type": "display_data",
          "data": {
            "text/plain": [
              "<IPython.core.display.HTML object>"
            ],
            "text/html": [
              "Run data is saved locally in <code>/content/wandb/run-20230318_145817-6cj4vzsa</code>"
            ]
          },
          "metadata": {}
        },
        {
          "output_type": "display_data",
          "data": {
            "text/plain": [
              "<IPython.core.display.HTML object>"
            ],
            "text/html": [
              "Syncing run <strong><a href='https://wandb.ai/harshvrma/Assignment_1_finals1111111/runs/6cj4vzsa' target=\"_blank\">proud-sweep-4</a></strong> to <a href='https://wandb.ai/harshvrma/Assignment_1_finals1111111' target=\"_blank\">Weights & Biases</a> (<a href='https://wandb.me/run' target=\"_blank\">docs</a>)<br/>Sweep page: <a href='https://wandb.ai/harshvrma/Assignment_1_finals1111111/sweeps/b4894dmx' target=\"_blank\">https://wandb.ai/harshvrma/Assignment_1_finals1111111/sweeps/b4894dmx</a>"
            ]
          },
          "metadata": {}
        },
        {
          "output_type": "display_data",
          "data": {
            "text/plain": [
              "<IPython.core.display.HTML object>"
            ],
            "text/html": [
              " View project at <a href='https://wandb.ai/harshvrma/Assignment_1_finals1111111' target=\"_blank\">https://wandb.ai/harshvrma/Assignment_1_finals1111111</a>"
            ]
          },
          "metadata": {}
        },
        {
          "output_type": "display_data",
          "data": {
            "text/plain": [
              "<IPython.core.display.HTML object>"
            ],
            "text/html": [
              " View sweep at <a href='https://wandb.ai/harshvrma/Assignment_1_finals1111111/sweeps/b4894dmx' target=\"_blank\">https://wandb.ai/harshvrma/Assignment_1_finals1111111/sweeps/b4894dmx</a>"
            ]
          },
          "metadata": {}
        },
        {
          "output_type": "display_data",
          "data": {
            "text/plain": [
              "<IPython.core.display.HTML object>"
            ],
            "text/html": [
              " View run at <a href='https://wandb.ai/harshvrma/Assignment_1_finals1111111/runs/6cj4vzsa' target=\"_blank\">https://wandb.ai/harshvrma/Assignment_1_finals1111111/runs/6cj4vzsa</a>"
            ]
          },
          "metadata": {}
        },
        {
          "output_type": "display_data",
          "data": {
            "text/plain": [
              "<IPython.core.display.HTML object>"
            ],
            "text/html": [
              "Waiting for W&B process to finish... <strong style=\"color:green\">(success).</strong>"
            ]
          },
          "metadata": {}
        },
        {
          "output_type": "display_data",
          "data": {
            "text/plain": [
              "<IPython.core.display.HTML object>"
            ],
            "text/html": [
              "<style>\n",
              "    table.wandb td:nth-child(1) { padding: 0 10px; text-align: left ; width: auto;} td:nth-child(2) {text-align: left ; width: 100%}\n",
              "    .wandb-row { display: flex; flex-direction: row; flex-wrap: wrap; justify-content: flex-start; width: 100% }\n",
              "    .wandb-col { display: flex; flex-direction: column; flex-basis: 100%; flex: 1; padding: 10px; }\n",
              "    </style>\n",
              "<div class=\"wandb-row\"><div class=\"wandb-col\"><h3>Run history:</h3><br/><table class=\"wandb\"><tr><td>epoch</td><td>▁▃▅▆█</td></tr><tr><td>train_accuracy</td><td>▁▅▆▇█</td></tr><tr><td>train_loss</td><td>█▄▃▂▁</td></tr><tr><td>valid_accuracy</td><td>▁▆▇▇█</td></tr><tr><td>valid_loss</td><td>█▃▁▁▁</td></tr></table><br/></div><div class=\"wandb-col\"><h3>Run summary:</h3><br/><table class=\"wandb\"><tr><td>epoch</td><td>4</td></tr><tr><td>train_accuracy</td><td>89.6037</td></tr><tr><td>train_loss</td><td>0.28977</td></tr><tr><td>valid_accuracy</td><td>87.85</td></tr><tr><td>valid_loss</td><td>0.3536</td></tr></table><br/></div></div>"
            ]
          },
          "metadata": {}
        },
        {
          "output_type": "display_data",
          "data": {
            "text/plain": [
              "<IPython.core.display.HTML object>"
            ],
            "text/html": [
              " View run <strong style=\"color:#cdcd00\">proud-sweep-4</strong> at: <a href='https://wandb.ai/harshvrma/Assignment_1_finals1111111/runs/6cj4vzsa' target=\"_blank\">https://wandb.ai/harshvrma/Assignment_1_finals1111111/runs/6cj4vzsa</a><br/>Synced 4 W&B file(s), 0 media file(s), 0 artifact file(s) and 0 other file(s)"
            ]
          },
          "metadata": {}
        },
        {
          "output_type": "display_data",
          "data": {
            "text/plain": [
              "<IPython.core.display.HTML object>"
            ],
            "text/html": [
              "Find logs at: <code>./wandb/run-20230318_145817-6cj4vzsa/logs</code>"
            ]
          },
          "metadata": {}
        },
        {
          "output_type": "stream",
          "name": "stderr",
          "text": [
            "\u001b[34m\u001b[1mwandb\u001b[0m: Agent Starting Run: 32qkni9b with config:\n",
            "\u001b[34m\u001b[1mwandb\u001b[0m: \tactivation_function: sigmoid\n",
            "\u001b[34m\u001b[1mwandb\u001b[0m: \tbatch_size: 64\n",
            "\u001b[34m\u001b[1mwandb\u001b[0m: \tepochs: 10\n",
            "\u001b[34m\u001b[1mwandb\u001b[0m: \thidden_layer_size: 32\n",
            "\u001b[34m\u001b[1mwandb\u001b[0m: \tlearning_rate: 0.0006\n",
            "\u001b[34m\u001b[1mwandb\u001b[0m: \tloss_type: squared_error\n",
            "\u001b[34m\u001b[1mwandb\u001b[0m: \tnum_of_hidden_layers: 2\n",
            "\u001b[34m\u001b[1mwandb\u001b[0m: \toptimizer: nadam\n",
            "\u001b[34m\u001b[1mwandb\u001b[0m: \tweight_decay: 0.5\n",
            "\u001b[34m\u001b[1mwandb\u001b[0m: \tweight_initialization: random\n"
          ]
        },
        {
          "output_type": "display_data",
          "data": {
            "text/plain": [
              "<IPython.core.display.HTML object>"
            ],
            "text/html": [
              "Tracking run with wandb version 0.14.0"
            ]
          },
          "metadata": {}
        },
        {
          "output_type": "display_data",
          "data": {
            "text/plain": [
              "<IPython.core.display.HTML object>"
            ],
            "text/html": [
              "Run data is saved locally in <code>/content/wandb/run-20230318_152240-32qkni9b</code>"
            ]
          },
          "metadata": {}
        },
        {
          "output_type": "display_data",
          "data": {
            "text/plain": [
              "<IPython.core.display.HTML object>"
            ],
            "text/html": [
              "Syncing run <strong><a href='https://wandb.ai/harshvrma/Assignment_1_finals1111111/runs/32qkni9b' target=\"_blank\">peach-sweep-5</a></strong> to <a href='https://wandb.ai/harshvrma/Assignment_1_finals1111111' target=\"_blank\">Weights & Biases</a> (<a href='https://wandb.me/run' target=\"_blank\">docs</a>)<br/>Sweep page: <a href='https://wandb.ai/harshvrma/Assignment_1_finals1111111/sweeps/b4894dmx' target=\"_blank\">https://wandb.ai/harshvrma/Assignment_1_finals1111111/sweeps/b4894dmx</a>"
            ]
          },
          "metadata": {}
        },
        {
          "output_type": "display_data",
          "data": {
            "text/plain": [
              "<IPython.core.display.HTML object>"
            ],
            "text/html": [
              " View project at <a href='https://wandb.ai/harshvrma/Assignment_1_finals1111111' target=\"_blank\">https://wandb.ai/harshvrma/Assignment_1_finals1111111</a>"
            ]
          },
          "metadata": {}
        },
        {
          "output_type": "display_data",
          "data": {
            "text/plain": [
              "<IPython.core.display.HTML object>"
            ],
            "text/html": [
              " View sweep at <a href='https://wandb.ai/harshvrma/Assignment_1_finals1111111/sweeps/b4894dmx' target=\"_blank\">https://wandb.ai/harshvrma/Assignment_1_finals1111111/sweeps/b4894dmx</a>"
            ]
          },
          "metadata": {}
        },
        {
          "output_type": "display_data",
          "data": {
            "text/plain": [
              "<IPython.core.display.HTML object>"
            ],
            "text/html": [
              " View run at <a href='https://wandb.ai/harshvrma/Assignment_1_finals1111111/runs/32qkni9b' target=\"_blank\">https://wandb.ai/harshvrma/Assignment_1_finals1111111/runs/32qkni9b</a>"
            ]
          },
          "metadata": {}
        },
        {
          "output_type": "display_data",
          "data": {
            "text/plain": [
              "<IPython.core.display.HTML object>"
            ],
            "text/html": [
              "Waiting for W&B process to finish... <strong style=\"color:green\">(success).</strong>"
            ]
          },
          "metadata": {}
        },
        {
          "output_type": "display_data",
          "data": {
            "text/plain": [
              "<IPython.core.display.HTML object>"
            ],
            "text/html": [
              "<style>\n",
              "    table.wandb td:nth-child(1) { padding: 0 10px; text-align: left ; width: auto;} td:nth-child(2) {text-align: left ; width: 100%}\n",
              "    .wandb-row { display: flex; flex-direction: row; flex-wrap: wrap; justify-content: flex-start; width: 100% }\n",
              "    .wandb-col { display: flex; flex-direction: column; flex-basis: 100%; flex: 1; padding: 10px; }\n",
              "    </style>\n",
              "<div class=\"wandb-row\"><div class=\"wandb-col\"><h3>Run history:</h3><br/><table class=\"wandb\"><tr><td>epoch</td><td>▁▂▃▄▅▅▆▇█</td></tr><tr><td>train_accuracy</td><td>█▁▂▂▂▁▂▁▁</td></tr><tr><td>train_loss</td><td>▁▄███████</td></tr><tr><td>valid_accuracy</td><td>█▁▄▃▃▃▃▃▃</td></tr><tr><td>valid_loss</td><td>▁▆███████</td></tr></table><br/></div><div class=\"wandb-col\"><h3>Run summary:</h3><br/><table class=\"wandb\"><tr><td>epoch</td><td>9</td></tr><tr><td>train_accuracy</td><td>9.71852</td></tr><tr><td>train_loss</td><td>0.44961</td></tr><tr><td>valid_accuracy</td><td>10.13333</td></tr><tr><td>valid_loss</td><td>0.44397</td></tr></table><br/></div></div>"
            ]
          },
          "metadata": {}
        },
        {
          "output_type": "display_data",
          "data": {
            "text/plain": [
              "<IPython.core.display.HTML object>"
            ],
            "text/html": [
              " View run <strong style=\"color:#cdcd00\">peach-sweep-5</strong> at: <a href='https://wandb.ai/harshvrma/Assignment_1_finals1111111/runs/32qkni9b' target=\"_blank\">https://wandb.ai/harshvrma/Assignment_1_finals1111111/runs/32qkni9b</a><br/>Synced 4 W&B file(s), 0 media file(s), 0 artifact file(s) and 0 other file(s)"
            ]
          },
          "metadata": {}
        },
        {
          "output_type": "display_data",
          "data": {
            "text/plain": [
              "<IPython.core.display.HTML object>"
            ],
            "text/html": [
              "Find logs at: <code>./wandb/run-20230318_152240-32qkni9b/logs</code>"
            ]
          },
          "metadata": {}
        }
      ],
      "source": [
        "wandb.agent(sweep_id, train,count=5)"
      ]
    },
    {
      "cell_type": "code",
      "source": [
        "var1 = wandb.init(project=\"Assignment_1_finals\")\n",
        "var2 = var1.config\n",
        "xsize=784\n",
        "output_size=10\n",
        "Batch_size=16\n",
        "hidden_layer=[32,32,10]\n",
        "number_of_hidden_layer=3\n",
        "obj = NeuralNet(xsize, hidden_layer, number_of_hidden_layer, 'ReLU', 'xavier', 0)\n",
        "optimizer='nadam'\n",
        "obj.optimize(normalized, train_labels, val_images, val_labels, optimizer, 0.0003,output_size, Batch_size,\"cross_entropy\")\n",
        "y_pred, test_accuracy = obj.test(test_images, test_labels)\n",
        "labels_all= [0,1,2,3,4,5,6,7,8,9]\n",
        "cm = cnfm(y_pred, test_labels, labels = labels_all)  \n",
        "value=False\n",
        "wandb.sklearn.plot_confusion_matrix(test_labels, y_pred, labels_all)\n",
        "wandb.log({'Confusion matrix': wandb.plots.HeatMap(labels_all, labels_all, cm, show_text=value), 'test_accuracy' : test_accuracy})"
      ],
      "metadata": {
        "id": "fC0DpMAyMXNn",
        "colab": {
          "base_uri": "https://localhost:8080/",
          "height": 191
        },
        "outputId": "c61e718f-69a3-4e48-8180-c1707dfa004c"
      },
      "execution_count": null,
      "outputs": [
        {
          "output_type": "display_data",
          "data": {
            "text/plain": [
              "<IPython.core.display.HTML object>"
            ],
            "text/html": [
              "Changes to your `wandb` environment variables will be ignored because your `wandb` session has already started. For more information on how to modify your settings with `wandb.init()` arguments, please refer to <a href='https://wandb.me/wandb-init' target=\"_blank\">the W&B docs</a>."
            ]
          },
          "metadata": {}
        },
        {
          "output_type": "stream",
          "name": "stderr",
          "text": [
            "\u001b[34m\u001b[1mwandb\u001b[0m: \u001b[33mWARNING\u001b[0m Ignored wandb.init() arg project when running a sweep.\n"
          ]
        },
        {
          "output_type": "display_data",
          "data": {
            "text/plain": [
              "<IPython.core.display.HTML object>"
            ],
            "text/html": [
              "Tracking run with wandb version 0.14.0"
            ]
          },
          "metadata": {}
        },
        {
          "output_type": "display_data",
          "data": {
            "text/plain": [
              "<IPython.core.display.HTML object>"
            ],
            "text/html": [
              "Run data is saved locally in <code>/content/wandb/run-20230318_154148-32qkni9b</code>"
            ]
          },
          "metadata": {}
        },
        {
          "output_type": "display_data",
          "data": {
            "text/plain": [
              "<IPython.core.display.HTML object>"
            ],
            "text/html": [
              "Syncing run <strong><a href='https://wandb.ai/harshvrma/Assignment_1_finals1111111/runs/32qkni9b' target=\"_blank\">peach-sweep-5</a></strong> to <a href='https://wandb.ai/harshvrma/Assignment_1_finals1111111' target=\"_blank\">Weights & Biases</a> (<a href='https://wandb.me/run' target=\"_blank\">docs</a>)<br/>Sweep page: <a href='https://wandb.ai/harshvrma/Assignment_1_finals1111111/sweeps/b4894dmx' target=\"_blank\">https://wandb.ai/harshvrma/Assignment_1_finals1111111/sweeps/b4894dmx</a>"
            ]
          },
          "metadata": {}
        },
        {
          "output_type": "display_data",
          "data": {
            "text/plain": [
              "<IPython.core.display.HTML object>"
            ],
            "text/html": [
              " View project at <a href='https://wandb.ai/harshvrma/Assignment_1_finals1111111' target=\"_blank\">https://wandb.ai/harshvrma/Assignment_1_finals1111111</a>"
            ]
          },
          "metadata": {}
        },
        {
          "output_type": "display_data",
          "data": {
            "text/plain": [
              "<IPython.core.display.HTML object>"
            ],
            "text/html": [
              " View sweep at <a href='https://wandb.ai/harshvrma/Assignment_1_finals1111111/sweeps/b4894dmx' target=\"_blank\">https://wandb.ai/harshvrma/Assignment_1_finals1111111/sweeps/b4894dmx</a>"
            ]
          },
          "metadata": {}
        },
        {
          "output_type": "display_data",
          "data": {
            "text/plain": [
              "<IPython.core.display.HTML object>"
            ],
            "text/html": [
              " View run at <a href='https://wandb.ai/harshvrma/Assignment_1_finals1111111/runs/32qkni9b' target=\"_blank\">https://wandb.ai/harshvrma/Assignment_1_finals1111111/runs/32qkni9b</a>"
            ]
          },
          "metadata": {}
        }
      ]
    },
    {
      "cell_type": "code",
      "source": [],
      "metadata": {
        "id": "sdfbOJC_4AYI"
      },
      "execution_count": null,
      "outputs": []
    },
    {
      "cell_type": "code",
      "source": [],
      "metadata": {
        "id": "cdjXvQnOdi_F"
      },
      "execution_count": null,
      "outputs": []
    },
    {
      "cell_type": "code",
      "source": [],
      "metadata": {
        "id": "5oBqH0jTdjB9"
      },
      "execution_count": null,
      "outputs": []
    },
    {
      "cell_type": "markdown",
      "source": [
        "### **`Question 10`**"
      ],
      "metadata": {
        "id": "AUoWBVYwdpw1"
      }
    },
    {
      "cell_type": "code",
      "source": [
        "(train_images, train_labels),(test_images, test_labels) = mnist.load_data()"
      ],
      "metadata": {
        "colab": {
          "base_uri": "https://localhost:8080/"
        },
        "id": "NlH7F4L6dmny",
        "outputId": "0f0f4f09-dc06-461b-81f5-f56151a1d22a"
      },
      "execution_count": null,
      "outputs": [
        {
          "output_type": "stream",
          "name": "stdout",
          "text": [
            "Downloading data from https://storage.googleapis.com/tensorflow/tf-keras-datasets/mnist.npz\n",
            "11490434/11490434 [==============================] - 0s 0us/step\n"
          ]
        }
      ]
    },
    {
      "cell_type": "code",
      "source": [
        "train_images, val_images, train_labels, val_labels  = train_test_split(train_images,train_labels,test_size=0.1,random_state = 42)"
      ],
      "metadata": {
        "id": "Z1wBkBAidxmk"
      },
      "execution_count": null,
      "outputs": []
    },
    {
      "cell_type": "code",
      "source": [
        "trainsize=train_images.shape[0]\n",
        "traind = train_images.reshape(trainsize,-1)\n",
        "mean = traind.mean(axis=0)\n",
        "normalized = (traind -  mean)/np.max((traind -  mean).max(axis=0))\n",
        "\n",
        "valsize=val_images.shape[0]\n",
        "val_images = val_images.reshape(valsize,-1)\n",
        "mean = val_images.mean(axis=0)\n",
        "val_images =  (val_images -  mean)/np.max((val_images -  mean).max(axis=0))\n",
        "\n",
        "testsize=test_images.shape[0]\n",
        "test_images = test_images.reshape(testsize,-1)\n",
        "max = (test_images -  mean).max(axis=0)\n",
        "test_images = (test_images -  mean)/np.max((test_images -  mean).max(axis=0))"
      ],
      "metadata": {
        "id": "cVb4CQrCd-NQ"
      },
      "execution_count": null,
      "outputs": []
    },
    {
      "cell_type": "code",
      "source": [
        "class NeuralNet:\n",
        "    def __init__(self,Size_of_Input, Number_of_Neuron_each_Layer, Number_of_Layers, activation_function, typeOfInit, L2reg_const = 0):\n",
        "        self.activation_function = activation_function\n",
        "        self.Size_of_Input = Size_of_Input\n",
        "        self.Number_of_Layers = Number_of_Layers\n",
        "        self.Number_of_Neuron_each_Layer = Number_of_Neuron_each_Layer\n",
        "        self.L2reg_const = L2reg_const\n",
        "        self.W,self.b = self.initializer(typeOfInit)\n",
        "\n",
        "    \n",
        "    def initializer(self, init):        \n",
        "        W = []\n",
        "        b = []\n",
        "        if init == 'random':\n",
        "            input_neuron = self.Number_of_Neuron_each_Layer[0]\n",
        "            input_size = self.Size_of_Input\n",
        "            W.append(np.random.randn(input_neuron, input_size))\n",
        "            number_of_layers = self.Number_of_Layers\n",
        "            for i in range(1,number_of_layers):\n",
        "                curr_layer = self.Number_of_Neuron_each_Layer[i]\n",
        "                prev_layer = self.Number_of_Neuron_each_Layer[i-1]\n",
        "                W.append(np.random.randn(curr_layer,prev_layer))\n",
        "\n",
        "            for i in range( number_of_layers):\n",
        "                curr_layer = self.Number_of_Neuron_each_Layer[i]\n",
        "                b.append(np.random.rand(curr_layer))\n",
        "        if (init == 'xavier'):\n",
        "            input_neuron = self.Number_of_Neuron_each_Layer[0]\n",
        "            parameter =  input_neuron+ self.Size_of_Input\n",
        "            input_size = self.Size_of_Input\n",
        "            number_of_layers = self.Number_of_Layers\n",
        "            W.append(np.random.normal(0,math.sqrt(2/(parameter)), ( input_neuron, input_size)))\n",
        "            for i in range(1,self.Number_of_Layers):\n",
        "                W.append(np.random.normal(0, math.sqrt(2/(self.Number_of_Neuron_each_Layer[i]+self.Number_of_Neuron_each_Layer[i-1])),(self.Number_of_Neuron_each_Layer[i],self.Number_of_Neuron_each_Layer[i-1])))\n",
        "\n",
        "            for i in range(number_of_layers):\n",
        "                curr_layer= self.Number_of_Neuron_each_Layer[i]\n",
        "                b.append(np.random.rand(curr_layer))\n",
        "        return W,b\n",
        "\n",
        "\n",
        "    def activation(self, Z):\n",
        "        if self.activation_function == 'ReLU':\n",
        "            res = self.ReLU(Z)\n",
        "            return res\n",
        "        elif self.activation_function == 'tanh':\n",
        "            res =  self.tanh(Z)\n",
        "            return res\n",
        "        elif self.activation_function == 'sigmoid':\n",
        "            res = self.sigmoid(Z)\n",
        "            return res\n",
        "\n",
        "\n",
        "    def activation_derivative(self,Z):\n",
        "        if self.activation_function == 'ReLU':\n",
        "            res = self.ReLU_derivative(Z)\n",
        "            return res\n",
        "        if self.activation_function == 'tanh':\n",
        "            res = self.tanh_derivative(Z)\n",
        "            return res\n",
        "        if self.activation_function == 'sigmoid':\n",
        "            res = self.sigmoid_derivative(Z)\n",
        "            return res\n",
        "    def ReLU(self,Z):\n",
        "        res= np.maximum(0,Z)\n",
        "        return res\n",
        "\n",
        "    def ReLU_derivative(self,Z):\n",
        "        res = [1 if x>0 else 0 for x in Z]\n",
        "        return res\n",
        "\n",
        "    def tanh(self, Z):\n",
        "        res = np.array([((np.exp(x) - np.exp(-x))/((np.exp(x) + np.exp(-x)))) for x in Z])\n",
        "        return res\n",
        "                 \n",
        "    def tanh_derivative(self, Z):\n",
        "        res = np.array(1 - self.tanh(Z)**2)\n",
        "        return res\n",
        "                 \n",
        "    def sigmoid_derivative(self,Z):\n",
        "        res = self.sigmoid(Z)*(1-self.sigmoid(Z))\n",
        "        return res\n",
        "\n",
        "    def sigmoid(self,x):\n",
        "        res = np.where(x>=0, 1/(1+np.exp(-x)), np.exp(x)/(1+np.exp(x)))\n",
        "        return res\n",
        "    \n",
        "    def softmax_function(self,Z):\n",
        "            maxZ=Z.max()\n",
        "            Z =   Z - maxZ# This is done to normalize the dataset\n",
        "            prob =np.exp(Z)\n",
        "            sumprob=np.sum(np.exp(Z),axis=0)\n",
        "            return (prob/sumprob)\n",
        "\n",
        "    def forward_propagation(self,Input):\n",
        "        Input = np.array(Input)\n",
        "        A = []\n",
        "        H = []\n",
        "        res = self.W[0].dot(Input) + self.b[0]\n",
        "        A.append(res)\n",
        "        number_of_layers =  self.Number_of_Layers\n",
        "        for i in range(1, number_of_layers):\n",
        "            H.append(self.activation(A[-1]))\n",
        "            preactivation = self.W[i].dot(H[-1]) + self.b[i]\n",
        "            A.append(preactivation)\n",
        "        y_hat = self.softmax_function(A[-1])\n",
        "        return A, H, y_hat\n",
        "\n",
        "    def backward_propagation(self, A, H, y_hat, y, Input, loss_type):\n",
        "        Input = np.array(Input)\n",
        "        H.insert(0,Input)\n",
        "        delW = []\n",
        "        delb = []\n",
        "        delA = []\n",
        "        delH = []\n",
        "\n",
        "        last_layer=self.Number_of_Neuron_each_Layer[-1]\n",
        "        zeros= np.zeros(last_layer)\n",
        "        ey = zeros\n",
        "        ey[y] = 1\n",
        "        \n",
        "        if loss_type==\"squared_error\":\n",
        "            der1=(y_hat - ey)\n",
        "            der2=(y_hat - y_hat**2)\n",
        "            delA.append(np.array(der1*der2))\n",
        "        else:\n",
        "        # delA and delH have reverse indexing\n",
        "            res=-(ey - y_hat)\n",
        "            delA.append(np.array(res))\n",
        "        number_of_layers= self.Number_of_Layers\n",
        "        for i in range( number_of_layers-1,-1,-1):\n",
        "            delastAshape=delA[-1].shape[0]\n",
        "            hlastshape=H[i].shape[0]\n",
        "            regulariz=self.L2reg_const*self.W[i]\n",
        "            delW.insert(0,delA[-1].reshape(delastAshape,1).dot(H[i].reshape(hlastshape,1).T) +regulariz )\n",
        "            delb.insert(0,delA[-1])\n",
        "            temp=self.W[i].T.dot(delA[-1])\n",
        "            delH.append(temp)\n",
        "            if i-1>=0:\n",
        "                delA.append(np.multiply(delH[-1], self.activation_derivative(A[i-1])))\n",
        "        return delW,delb\n",
        "    \n",
        "    \n",
        "    def initialize(self, Size_of_Input,Number_of_Layers,Number_of_Neuron_each_Layer):\n",
        "        W, b = [], []\n",
        "        each_layer_neuron = Number_of_Neuron_each_Layer[0]\n",
        "        input_size = Size_of_Input\n",
        "        W.append(np.zeros(( Number_of_Neuron_each_Layer[0],input_size )))\n",
        "        for i in range(1,Number_of_Layers):\n",
        "            curr_layer = Number_of_Neuron_each_Layer[i]\n",
        "            prev_layer = Number_of_Neuron_each_Layer[i-1]\n",
        "            W.append(np.zeros((curr_layer,prev_layer)))\n",
        "        for i in range(Number_of_Layers):\n",
        "            curr_layer = Number_of_Neuron_each_Layer[i]\n",
        "            b.append(np.zeros(curr_layer))            \n",
        "        return W, b\n",
        "\n",
        "    \n",
        "    def optimize(self, X, Y, val_images,val_labels,optimizer, learning_rate, max_epochs,batch_size,loss_type):\n",
        "        if optimizer == 'sgd':\n",
        "          self.stochastic_gradient_descent(X, Y, val_images,val_labels, learning_rate, max_epochs,loss_type)\n",
        "        if optimizer == 'momentum':\n",
        "          self.momentum_gradient_descent(X, Y, val_images,val_labels, learning_rate, max_epochs,batch_size,loss_type)\n",
        "        if optimizer == 'nag':\n",
        "          self.nesterov_accelerated_gradient_descent(X, Y, val_images,val_labels, learning_rate, max_epochs,batch_size,loss_type)\n",
        "        if optimizer == 'rmsprop':\n",
        "          self.rmsprop(X, Y, val_images,val_labels, learning_rate, max_epochs,batch_size,loss_type)\n",
        "        if optimizer == 'adam':\n",
        "          self.adam(X, Y, val_images,val_labels, learning_rate, max_epochs,batch_size,loss_type)\n",
        "        if optimizer == 'nadam':\n",
        "          self.nadam(X, Y, val_images,val_labels, learning_rate, max_epochs,batch_size,loss_type)\n",
        "\n",
        "\n",
        "    def stochastic_gradient_descent(self,X, Y, val_images,val_labels, learning_rate, max_epochs,loss_type):\n",
        "        number_of_inputs = self.Size_of_Input\n",
        "        layers_size = self.Number_of_Layers\n",
        "        neurons = self.Number_of_Neuron_each_Layer\n",
        "        for j in range(max_epochs):\n",
        "            correct = 0\n",
        "            error = 0\n",
        "            delW, delb = self.initialize(number_of_inputs,layers_size,neurons)\n",
        "            xsize=X.shape[0]\n",
        "            for i in range(xsize):\n",
        "                features=X[i]\n",
        "                A,H,y_hat = self.forward_propagation(features)\n",
        "                upW=self.W\n",
        "                s = [x.sum() for x in upW]\n",
        "                zeros=np.zeros(self.Number_of_Neuron_each_Layer[-1])\n",
        "                ey = zeros\n",
        "                ey[Y[i]] = 1\n",
        "                if loss_type == \"squared_error\":\n",
        "                      sqrd = 0.5*np.sum((ey-y_hat)**2)\n",
        "                      reg =  self.L2reg_const/2*sum(s)\n",
        "                      error += sqrd + reg \n",
        "                else:\n",
        "                      cross =-math.log(y_hat[Y[i]])\n",
        "                      reg = self.L2reg_const/2*sum(s)\n",
        "                      error += cross + reg\n",
        "\n",
        "                delW,delb = self.backward_propagation(A,H,y_hat,Y[i],X[i],loss_type)\n",
        "                res=np.argmax(y_hat)\n",
        "                if(res == Y[i]):\n",
        "                    correct +=1\n",
        "                \n",
        "                for i in range(self.Number_of_Layers):\n",
        "                    lrdelw = learning_rate*delW[i]\n",
        "                    self.W[i] = self.W[i] - lrdelw\n",
        "                    lrdelb = learning_rate*delb[i]\n",
        "                    self.b[i] = self.b[i] - lrdelb\n",
        "\n",
        "            v_error, v_accruracy = self.val_loss_and_accuracy(val_images, val_labels,loss_type)\n",
        "            sizex=X.shape[0]\n",
        "            error =error/sizex\n",
        "            sizexacc= X.shape[0]\n",
        "            accuracy = correct/sizexacc*100\n",
        "            wandb.log({'epoch' : j, 'train_loss' : error, 'train_accuracy' : accuracy,'valid_loss' : v_error,'valid_accuracy' : v_accruracy})\n",
        "\n",
        "\n",
        "    def momentum_gradient_descent(self,X, Y, val_images,val_labels, learning_rate, max_epochs,batch_size, loss_type,gamma = 0.6):\n",
        "        number_of_input=self.Size_of_Input\n",
        "        number_of_layers=self.Number_of_Layers\n",
        "        neuron=self.Number_of_Neuron_each_Layer\n",
        "        updateW, updateb = self.initialize(number_of_input,number_of_layers,neuron)\n",
        "\n",
        "        for j in range(max_epochs):\n",
        "            correct = 0\n",
        "            error = 0\n",
        "\n",
        "            delW, delb = self.initialize(number_of_input, number_of_layers,neuron)\n",
        "            xsize=X.shape[0]\n",
        "            \n",
        "            for i in range(X.shape[0]):\n",
        "                features=X[i]\n",
        "                A,H,y_hat = self.forward_propagation(features)\n",
        "                upW=self.W\n",
        "                s = [x.sum() for x in upW]\n",
        "                ey = np.zeros(self.Number_of_Neuron_each_Layer[-1])\n",
        "                ey[Y[i]] = 1\n",
        "                if loss_type == \"squared_error\":\n",
        "                      sqrd = 0.5*np.sum((ey-y_hat)**2)\n",
        "                      reg =  self.L2reg_const/2*sum(s)\n",
        "                      error += sqrd + reg \n",
        "                else : \n",
        "                     cross = -math.log(y_hat[Y[i]])\n",
        "                     reg = self.L2reg_const/2*sum(s)\n",
        "                     error += cross + reg\n",
        "                \n",
        "                w,b = self.backward_propagation(A,H,y_hat,Y[i],X[i],loss_type)\n",
        "\n",
        "                for k in range( number_of_layers):\n",
        "                    prevdelW = delW[k]\n",
        "                    delW[k]  = prevdelW + w[k]\n",
        "                    prevdelB = delb[k]\n",
        "                    delb[k]  = prevdelB + b[k]\n",
        "\n",
        "                for k in range( number_of_layers):\n",
        "                    gammaupW = gamma*updateW[k]\n",
        "                    lrdelw = learning_rate*delW[k]\n",
        "                    updateW[k] = gammaupW + learning_rate*delW[k]  \n",
        "\n",
        "                    gammaupB = gamma*updateb[k]\n",
        "                    lrdelb = learning_rate*delb[k]\n",
        "                    updateb[k] = gammaupB + lrdelb\n",
        "                temp=i%batch_size\n",
        "                if  (temp == 0 and i!=0) or i==xsize-1:\n",
        "                    delW, delb = self.initialize(number_of_input, number_of_layers,neuron)\n",
        "                    for k in range( number_of_layers):\n",
        "                        prevW1 = self.W[k] \n",
        "                        self.W[k] = prevW1 -updateW[k]\n",
        "                        prevB1 = self.b[k]  \n",
        "                        self.b[k] = prevB1 -updateb[k]\n",
        "                res = np.argmax(y_hat)\n",
        "                if(res == Y[i]):\n",
        "                    correct +=1\n",
        "\n",
        "                \n",
        "            v_error, v_accruracy = self.val_loss_and_accuracy(val_images, val_labels,loss_type)\n",
        "            sizex=X.shape[0]\n",
        "            error =error/sizex\n",
        "            sizexacc= X.shape[0]\n",
        "            accuracy = correct/sizexacc*100\n",
        "            wandb.log({'epoch' : j, 'train_loss' : error, 'train_accuracy' : accuracy,'valid_loss' : v_error,'valid_accuracy' : v_accruracy})\n",
        "\n",
        "\n",
        "    def nesterov_accelerated_gradient_descent(self, X, Y, val_images,val_labels, learning_rate, max_epochs,batch_size,loss_type ,gamma = 0.5):\n",
        "        number_of_input= self.Size_of_Input\n",
        "        layers_size=self.Number_of_Layers\n",
        "        neurons=self.Number_of_Neuron_each_Layer\n",
        "        updateW, updateb = self.initialize( number_of_input, layers_size,neurons)\n",
        "        lookaheadW, lookaheadb = self.initialize( number_of_input,  layers_size,neurons)\n",
        "        thetaW, thetab = self.initialize( number_of_input, layers_size,neurons)\n",
        "\n",
        "        for j in range(max_epochs):\n",
        "            correct = 0\n",
        "            error = 0\n",
        "\n",
        "            delW, delb = self.initialize(number_of_input,layers_size,neurons)\n",
        "                \n",
        "            for k in range(layers_size):\n",
        "                thetaW[k] = self.W[k]\n",
        "                thetab[k] = self.b[k]\n",
        "\n",
        "            for k in range(layers_size):\n",
        "                gammaupW=gamma*updateW[k]\n",
        "                lookaheadW[k] = thetaW[k] - gammaupW \n",
        "                gammaupB=gamma*updateb[k]\n",
        "                lookaheadb[k] = thetab[k] - gammaupB\n",
        "                self.W[k] = lookaheadW[k]\n",
        "                self.b[k] = lookaheadb[k]\n",
        "\n",
        "            xsize=X.shape[0]\n",
        "            for i in range(xsize):\n",
        "                A,H,y_hat = self.forward_propagation(X[i])\n",
        "                Wup=self.W\n",
        "                s = [x.sum() for x in Wup ]\n",
        "               # cross=-math.log(y_hat[Y[i]])\n",
        "               # regu= self.L2reg_const/2*sum(s)\n",
        "                #error += cross + regu\n",
        "                ey = np.zeros(self.Number_of_Neuron_each_Layer[-1])\n",
        "                ey[Y[i]] = 1\n",
        "                if loss_type == \"squared_error\":\n",
        "                      sqrd = 0.5*np.sum((ey-y_hat)**2)\n",
        "                      reg =  self.L2reg_const/2*sum(s)\n",
        "                      error += sqrd + reg \n",
        "                else : \n",
        "                    cross = -math.log(y_hat[Y[i]])\n",
        "                    reg = self.L2reg_const/2*sum(s)\n",
        "                    error += cross + reg\n",
        "                w,b = self.backward_propagation(A,H,y_hat,Y[i],X[i],loss_type)\n",
        "\n",
        "                for k in range(layers_size):\n",
        "                    prevdW=delW[k]\n",
        "                    delW[k] =prevdW + w[k]\n",
        "                    prevdB=delb[k]\n",
        "                    delb[k] =prevdB + b[k]\n",
        "\n",
        "                for k in range( layers_size):\n",
        "                    gammaW = gamma*updateW[k]\n",
        "                    lrdelW= learning_rate*delW[k] \n",
        "                    updateW[k] =  gammaW + lrdelW\n",
        "\n",
        "                    gammab =   gamma*updateb[k]\n",
        "                    lrdelb=    learning_rate*delb[k]\n",
        "                    updateb[k] = gammab +  lrdelb\n",
        "\n",
        "                temp=i%batch_size\n",
        "                if  (temp == 0 and i!=0) or i==xsize-1:\n",
        "                    delW, delb = self.initialize(self.Size_of_Input,layers_size,self.Number_of_Neuron_each_Layer)\n",
        "                    for k in range(layers_size):\n",
        "                        befW = self.W[k]\n",
        "                        self.W[k] = befW -updateW[k] \n",
        "                        befB = self.b[k]\n",
        "                        self.b[k] =befB -updateb[k]\n",
        "                res=np.argmax(y_hat)\n",
        "                if(res == Y[i]):\n",
        "                    correct +=1\n",
        "            \n",
        "           # error /= X.shape[0]\n",
        "           # accuracy = correct/X.shape[0]*100\n",
        "           # v_error, v_accruracy = self.val_loss_and_accuracy(val_images, val_labels)\n",
        "            v_error, v_accruracy = self.val_loss_and_accuracy(val_images, val_labels,loss_type)\n",
        "            sizex=X.shape[0]\n",
        "            error =error/sizex\n",
        "            sizexacc= X.shape[0]\n",
        "            accuracy = correct/sizexacc*100\n",
        "            wandb.log({'epoch' : j, 'train_loss' : error, 'train_accuracy' : accuracy,'valid_loss' : v_error,'valid_accuracy' : v_accruracy})\n",
        "\n",
        "\n",
        "\n",
        "    def rmsprop(self,X, Y, val_images,val_labels, learning_rate, max_epochs,batch_size,loss_type, beta = 0.89, epsilon = 1e-6):\n",
        "        number_of_inputs=self.Size_of_Input\n",
        "        layers_size=self.Number_of_Layers\n",
        "        neurons=self.Number_of_Neuron_each_Layer\n",
        "        v_W, v_b = self.initialize(number_of_inputs,layers_size,neurons)\n",
        "\n",
        "        for j in range(max_epochs):\n",
        "            error = 0\n",
        "            correct = 0\n",
        "            xsize=X.shape[0]\n",
        "\n",
        "            delW, delb = self.initialize(number_of_inputs,layers_size,neurons)\n",
        "    \n",
        "            for i in range(xsize):\n",
        "                val= X[i]\n",
        "                A,H,y_hat = self.forward_propagation(val)\n",
        "                Wup=self.W\n",
        "                s = [x.sum() for x in Wup ]\n",
        "                #cross= -math.log(y_hat[Y[i]])\n",
        "               # reg= self.L2reg_const/2*sum(s)\n",
        "                #error += cross  + reg\n",
        "                ey = np.zeros(self.Number_of_Neuron_each_Layer[-1])\n",
        "                ey[Y[i]] = 1\n",
        "                if loss_type == \"squared_error\":\n",
        "                      sqrd = 0.5*np.sum((ey-y_hat)**2)\n",
        "                      reg =  self.L2reg_const/2*sum(s)\n",
        "                      error += sqrd + reg \n",
        "                else : \n",
        "                    cross = -math.log(y_hat[Y[i]])\n",
        "                    reg = self.L2reg_const/2*sum(s)\n",
        "                    error += cross + reg\n",
        "\n",
        "                w,b = self.backward_propagation(A,H,y_hat,Y[i],X[i],loss_type)\n",
        "\n",
        "                for k in range(layers_size):\n",
        "                    prevdelW = delW[k]\n",
        "                    delW[k]  = prevdelW + w[k]\n",
        "                    prevdelB = delb[k]\n",
        "                    delb[k]  = prevdelB +  b[k]\n",
        "                res=np.argmax(y_hat)\n",
        "                if(res == Y[i]):\n",
        "                    correct +=1\n",
        "\n",
        "                for k in range(layers_size):\n",
        "                    betavw1=beta*v_W[k]\n",
        "                    betavw2=(1-beta)*delW[k]**2 \n",
        "                    v_W[k] = betavw1  + betavw2 \n",
        "\n",
        "                    betavb1=  beta*v_b[k]\n",
        "                    betavb2=  (1-beta)*delb[k]**2 \n",
        "                    v_b[k] = betavb1 + betavb2\n",
        "         \n",
        "                temp= i%batch_size\n",
        "                if  (temp== 0 and i!=0) or i==xsize-1:\n",
        "                    for k in range(layers_size):\n",
        "                        betavw1= beta*v_W[k]\n",
        "                        betavw2= (1-beta)*delW[k]**2  \n",
        "                        v_W[k] =  betavw1 +  betavw2\n",
        "\n",
        "                        betavb1=  beta*v_b[k]   \n",
        "                        betavb2=  (1-beta)*delb[k]**2\n",
        "                        v_b[k] = betavb1 + betavb2\n",
        "                    for k in range(layers_size):\n",
        "                        lrdelw=(learning_rate*delW[k])\n",
        "                        sqrtvW=np.sqrt(v_W[k] + epsilon)\n",
        "                        self.W[k] = self.W[k] - lrdelw/sqrtvW\n",
        "\n",
        "                        lrdelb=(learning_rate*delb[k])\n",
        "                        sqrtvB=np.sqrt(v_b[k] + epsilon)\n",
        "                        self.b[k] = self.b[k] - lrdelb/sqrtvB\n",
        "                    delW, delb = self.initialize(number_of_inputs,layers_size,neurons) \n",
        "            \n",
        "\n",
        "            v_error, v_accruracy = self.val_loss_and_accuracy(val_images, val_labels,loss_type)\n",
        "            sizex=X.shape[0]\n",
        "            error =error/sizex\n",
        "            sizexacc= X.shape[0]\n",
        "            accuracy = correct/sizexacc*100\n",
        "            wandb.log({'epoch' : j, 'train_loss' : error, 'train_accuracy' : accuracy,'valid_loss' : v_error,'valid_accuracy' : v_accruracy})\n",
        "\n",
        "\n",
        "    \n",
        "    def adam(self,X, Y, val_images,val_labels, learning_rate, max_epochs,batch_size, loss_type,beta1 = 0.89,beta2 = 0.989,epsilon = 1e-8):\n",
        "        number_of_input = self.Size_of_Input\n",
        "        number_of_layers= self.Number_of_Layers\n",
        "        neurons= self.Number_of_Neuron_each_Layer\n",
        "        m_W, m_b = self.initialize( number_of_input,number_of_layers,neurons)\n",
        "        m_hat_W, m_hat_b = self.initialize(  number_of_input,number_of_layers,neurons)\n",
        "        v_W, v_b = self.initialize( number_of_input,number_of_layers,neurons)\n",
        "        v_hat_W, v_hat_b = self.initialize( number_of_input,number_of_layers,neurons)\n",
        "        \n",
        "        for j in range(0, max_epochs):\n",
        "            correct = 0\n",
        "            error = 0\n",
        "            xsize = X.shape[0]\n",
        "            delW, delb = self.initialize( number_of_input,number_of_layers,neurons)\n",
        "            \n",
        "            for i in range(xsize):\n",
        "                features=X[i]\n",
        "                A,H,y_hat = self.forward_propagation(features)\n",
        "                upW = self.W\n",
        "                s = [x.sum() for x in upW]\n",
        "               # cross = -math.log(y_hat[Y[i]])\n",
        "                #reg = self.L2reg_const/2*sum(s)\n",
        "               # error += cross + reg\n",
        "                ey = np.zeros(self.Number_of_Neuron_each_Layer[-1])\n",
        "                ey[Y[i]] = 1\n",
        "                if loss_type == \"squared_error\":\n",
        "                      sqrd = 0.5*np.sum((ey-y_hat)**2)\n",
        "                      reg =  self.L2reg_const/2*sum(s)\n",
        "                      error += sqrd + reg \n",
        "                else : \n",
        "                    cross = -math.log(y_hat[Y[i]])\n",
        "                    reg = self.L2reg_const/2*sum(s)\n",
        "                    error += cross + reg\n",
        "               \n",
        "\n",
        "                w,b = self.backward_propagation(A,H,y_hat,Y[i],X[i],loss_type)\n",
        "\n",
        "                for k in range(number_of_layers):\n",
        "                    prevdelW = delW[k]\n",
        "                    delW[k] = prevdelW + w[k]\n",
        "                    prevdelB = delb[k]\n",
        "                    delb[k] = prevdelB + b[k]\n",
        "                res = np.argmax(y_hat) \n",
        "                if(res == Y[i]):\n",
        "                    correct +=1\n",
        "                temp = i%batch_size\n",
        "                if  (temp == 0 and i!=0) or i==xsize-1:\n",
        "                    for k in range(number_of_layers):\n",
        "                        betavW1 =  beta2*v_W[k]\n",
        "                        betavW2 = (1-beta2)*delW[k]*delW[k]\n",
        "                        v_W[k] =   betavW1 + betavW2\n",
        "\n",
        "                        betavB1 = beta2*v_b[k]\n",
        "                        betavB2=  (1-beta2)*delb[k]*delb[k]\n",
        "                        v_b[k] =  betavB1 + betavB2\n",
        "\n",
        "                        betamW1 = beta1*m_W[k]\n",
        "                        betadelw =  (1-beta1)*delW[k]\n",
        "                        m_W[k] = betamW1 + betadelw\n",
        "\n",
        "                        betamb1 = beta1*m_b[k]\n",
        "                        betadelb= beta1*m_b[k]\n",
        "                        m_b[k] = betamb1 + betadelb\n",
        "\n",
        "                        powbeta1= (math.pow(beta1,j))\n",
        "                        m_hat_W[k] = m_W[k]/ powbeta1\n",
        "                        m_hat_b[k] = m_b[k]/powbeta1\n",
        "\n",
        "                        powbeta2= (math.pow(beta2,j))\n",
        "                        v_hat_W[k] = v_W[k]/powbeta2\n",
        "                        v_hat_b[k] = v_b[k]/powbeta2\n",
        "                    \n",
        "                    for k in range(number_of_layers):\n",
        "                        lrW = learning_rate*m_hat_W[k]\n",
        "                        sqrtvW = np.sqrt(v_hat_W[k] + epsilon) \n",
        "                        self.W[k] = self.W[k] - (lrW)/sqrtvW\n",
        "\n",
        "                        lrb = learning_rate*m_hat_b[k]\n",
        "                        sqrtvb = np.sqrt(v_hat_b[k] + epsilon)\n",
        "                        self.b[k] = self.b[k] - (lrb)/sqrtvb\n",
        "                    delW, delb = self.initialize(number_of_input,number_of_layers,neurons)\n",
        "                                \n",
        "            v_error, v_accruracy = self.val_loss_and_accuracy(val_images, val_labels,loss_type)\n",
        "            sizex=X.shape[0]\n",
        "            error =error/sizex\n",
        "            sizexacc= X.shape[0]\n",
        "            accuracy = correct/sizexacc*100\n",
        "            wandb.log({'epoch' : j, 'train_loss' : error, 'train_accuracy' : accuracy,'valid_loss' : v_error,'valid_accuracy' : v_accruracy})\n",
        "    \n",
        "    def nadam(self, X, Y, val_images,val_labels, learning_rate, max_epochs,batch_size, loss_type,beta1 = 0.89,beta2 = 0.989,epsilon = 1e-8):\n",
        "        number_of_inputs=self.Size_of_Input\n",
        "        layers_size=self.Number_of_Layers\n",
        "        neurons=self.Number_of_Neuron_each_Layer\n",
        "        v_W, v_b = self.initialize(number_of_inputs,layers_size,neurons)\n",
        "        v_hat_W, v_hat_b = self.initialize(number_of_inputs,layers_size,neurons)\n",
        "        m_W, m_b = self.initialize(number_of_inputs,layers_size,neurons)\n",
        "        m_hat_W, m_hat_b = self.initialize(number_of_inputs,layers_size,neurons)\n",
        "\n",
        "        \n",
        "        for j in range(1,max_epochs):\n",
        "            error = 0\n",
        "            correct = 0\n",
        "\n",
        "            sizex=X.shape[0]\n",
        "            delW, delb = self.initialize(number_of_inputs,self.Number_of_Layers,neurons)\n",
        "            \n",
        "            for i in range(sizex):\n",
        "                features=X[i]\n",
        "                A,H,y_hat = self.forward_propagation(features)\n",
        "                \n",
        "                s = [x.sum() for x in self.W]\n",
        "              # # crosse=-math.log(y_hat[Y[i]])\n",
        "                #regu=self.L2reg_const/2*sum(s)\n",
        "               # error += crosse + regu\n",
        "                ey = np.zeros(self.Number_of_Neuron_each_Layer[-1])\n",
        "                ey[Y[i]] = 1\n",
        "                if loss_type == \"squared_error\":\n",
        "                      sqrd = 0.5*np.sum((ey-y_hat)**2)\n",
        "                      reg =  self.L2reg_const/2*sum(s)\n",
        "                      error += sqrd + reg \n",
        "                else : \n",
        "                    cross = -math.log(y_hat[Y[i]])\n",
        "                    reg = self.L2reg_const/2*sum(s)\n",
        "                    error += cross + reg\n",
        "\n",
        "                w,b = self.backward_propagation(A,H,y_hat,Y[i],X[i],loss_type)\n",
        "\n",
        "                for k in range(layers_size):\n",
        "                    prevdelW= delW[k]\n",
        "                    delW[k] = prevdelW + w[k]\n",
        "                    prevdelB= delb[k]\n",
        "                    delb[k] = prevdelB+  b[k]\n",
        "                res=np.argmax(y_hat) \n",
        "                if(res== Y[i]):\n",
        "                    correct +=1\n",
        "                temp=i%batch_size\n",
        "\n",
        "                if  (temp == 0 and i!=0) or i==sizex-1:\n",
        "                    for k in range(layers_size):\n",
        "                        betavW1= beta2*v_W[k]\n",
        "                        betavW2= (1-beta2)*delW[k]**2\n",
        "                        v_W[k] =  betavW1 + betavW2\n",
        "\n",
        "                        betavB1=beta2*v_b[k]\n",
        "                        betavB2=(1-beta2)*delb[k]**2\n",
        "                        v_b[k] = betavB1  + betavB2 \n",
        "                        \n",
        "                        betamW1=beta1*m_W[k]\n",
        "                        betamW2=(1-beta1)*delW[k]\n",
        "                        m_W[k] = betamW1 + betamW2\n",
        "\n",
        "                        betamB1=beta1*m_b[k]\n",
        "                        betamB2=(1-beta1)*delb[k]\n",
        "                        m_b[k] = betamB1+ betamB2\n",
        "                        \n",
        "                        m_hat_bias= (math.pow(beta1,j))\n",
        "                        m_hat_W[k] = m_W[k]/m_hat_bias\n",
        "                        m_hat_b[k] = m_b[k]/m_hat_bias\n",
        "                        \n",
        "                        v_hat_bias = (math.pow(beta2,j))\n",
        "                        v_hat_W[k] = v_W[k]/v_hat_bias\n",
        "                        v_hat_b[k] = v_b[k]/v_hat_bias\n",
        "                    for k in range(self.Number_of_Layers):\n",
        "                        beta_mw=beta1*m_hat_W[k]\n",
        "                        beta_dw=(1-beta1)*delW[k]/(1-beta1)\n",
        "                        sqrt_dw=np.sqrt(v_hat_W[k] + epsilon)\n",
        "                        self.W[k] = self.W[k] - (learning_rate*(beta_mw + beta_dw))/sqrt_dw\n",
        "\n",
        "                        beta_mb=beta1*m_hat_b[k]\n",
        "                        beta_db=(1-beta1)*delb[k]/(1-beta1)\n",
        "                        sqrt_db=np.sqrt(v_hat_b[k] + epsilon)\n",
        "                        self.b[k] = self.b[k] - (learning_rate*(beta_mb+beta_db))/sqrt_db\n",
        "                    delW, delb = self.initialize(self.Size_of_Input,self.Number_of_Layers,self.Number_of_Neuron_each_Layer)\n",
        "                    \n",
        "\n",
        "            v_error, v_accruracy = self.val_loss_and_accuracy(val_images, val_labels,loss_type)\n",
        "            sizex=X.shape[0]\n",
        "            error =error/sizex\n",
        "            sizexacc= X.shape[0]\n",
        "            accuracy = correct/sizexacc*100\n",
        "            wandb.log({'epoch' : j, 'train_loss' : error, 'train_accuracy' : accuracy,'valid_loss' : v_error,'valid_accuracy' : v_accruracy})\n",
        "        \n",
        "    \n",
        "    def val_loss_and_accuracy(self,val_data,val_labels,loss_type):\n",
        "        val_loss = []\n",
        "        val_accuracy = []\n",
        "        val_correct = 0\n",
        "        val_error = 0\n",
        "\n",
        "        for i in range(val_data.shape[0]):\n",
        "            A,H,y_hat = self.forward_propagation(val_data[i]) \n",
        "            upW=self.W\n",
        "            s = [x.sum() for x in upW]\n",
        "            if loss_type == \"squared_error\":\n",
        "                ey = np.zeros(self.Number_of_Neuron_each_Layer[-1])\n",
        "                ey[val_labels[i]] = 1\n",
        "                error=0.5*np.sum((ey-y_hat)**2)\n",
        "                regerror= self.L2reg_const/2*sum(s)\n",
        "                val_error += error + regerror\n",
        "            else:\n",
        "                 regu=self.L2reg_const/2*sum(s)\n",
        "                 cross=-math.log(y_hat[val_labels[i]])\n",
        "                 val_error += cross + regu\n",
        "            maxi=np.argmax(y_hat)\n",
        "            if  maxi == val_labels[i]:\n",
        "                val_correct += 1\n",
        "        m=val_data.shape[0]\n",
        "        m1=val_data.shape[0]\n",
        "        return val_error/m, val_correct/m1*100\n",
        "\n",
        "\n",
        "    def test(self,test_data,test_labels):\n",
        "        correct = 0\n",
        "        y_hat = []\n",
        "        testsize=test_data.shape[0]\n",
        "        for i in range(testsize):\n",
        "\n",
        "            A,H,y = self.forward_propagation(test_data[i])\n",
        "            res=np.argmax(y)\n",
        "            if res == test_labels[i]:\n",
        "                correct += 1\n",
        "            y_hat.append(y)\n",
        "        a=np.argmax(np.array(y_hat),axis=1)\n",
        "        b=correct/test_data.shape[0]*100\n",
        "        return a,b"
      ],
      "metadata": {
        "id": "G8WCQ8WseC1F"
      },
      "execution_count": null,
      "outputs": []
    },
    {
      "cell_type": "code",
      "source": [
        "\n",
        "xsize=784\n",
        "output_size=10\n",
        "Batch_size=16\n",
        "hidden_layer=[32,16,10]\n",
        "number_of_hidden_layer=3\n",
        "obj = NeuralNet(xsize, hidden_layer, number_of_hidden_layer, 'ReLU', 'xavier', 0)\n",
        "optimizer='nadam'\n",
        "obj.optimize(normalized, train_labels, val_images, val_labels, optimizer, 0.0003,output_size, Batch_size,\"cross_entropy\")\n",
        "y_pred, test_accuracy = obj.test(test_images, test_labels)\n",
        "labels_all= [0,1,2,3,4,5,6,7,8,9]\n",
        "cm = cnfm(y_pred, test_labels, labels = labels_all)  \n",
        "value=False\n",
        "print(test_accuracy)\n",
        "#wandb.sklearn.plot_confusion_matrix(test_labels, y_pred, labels_all)\n",
        "#wandb.log({'Confusion matrix': wandb.plots.HeatMap(labels_all, labels_all, cm, show_text=value), 'test_accuracy' : test_accuracy})"
      ],
      "metadata": {
        "colab": {
          "base_uri": "https://localhost:8080/"
        },
        "id": "J25T_xpReV8T",
        "outputId": "08d07a2e-731b-4465-bedb-832897163185"
      },
      "execution_count": null,
      "outputs": [
        {
          "output_type": "stream",
          "name": "stdout",
          "text": [
            "96.34\n"
          ]
        }
      ]
    },
    {
      "cell_type": "code",
      "source": [
        "xsize=784\n",
        "output_size=10\n",
        "Batch_size=16\n",
        "hidden_layer=[128,128,10]\n",
        "number_of_hidden_layer=3\n",
        "obj = NeuralNet(xsize, hidden_layer, number_of_hidden_layer, 'ReLU', 'xavier', 0)\n",
        "optimizer='sgd'\n",
        "obj.optimize(normalized, train_labels, val_images, val_labels, optimizer, 0.01,output_size, Batch_size,\"cross_entropy\")\n",
        "y_pred, test_accuracy = obj.test(test_images, test_labels)\n",
        "labels_all= [0,1,2,3,4,5,6,7,8,9]\n",
        "cm = cnfm(y_pred, test_labels, labels = labels_all)  \n",
        "value=False\n",
        "print(test_accuracy)"
      ],
      "metadata": {
        "colab": {
          "base_uri": "https://localhost:8080/"
        },
        "id": "j2bhzimOeqXH",
        "outputId": "67e751ae-9478-47e1-af11-07301b280f11"
      },
      "execution_count": null,
      "outputs": [
        {
          "output_type": "stream",
          "name": "stdout",
          "text": [
            "96.66\n"
          ]
        }
      ]
    },
    {
      "cell_type": "code",
      "source": [
        "xsize=784\n",
        "output_size=10\n",
        "Batch_size=16\n",
        "hidden_layer=[128,128,10]\n",
        "number_of_hidden_layer=3\n",
        "obj = NeuralNet(xsize, hidden_layer, number_of_hidden_layer, 'ReLU', 'xavier', 0)\n",
        "optimizer='rmsprop'\n",
        "obj.optimize(normalized, train_labels, val_images, val_labels, optimizer, 0.01,output_size, Batch_size,\"cross_entropy\")\n",
        "y_pred, test_accuracy = obj.test(test_images, test_labels)\n",
        "labels_all= [0,1,2,3,4,5,6,7,8,9]\n",
        "cm = cnfm(y_pred, test_labels, labels = labels_all)  \n",
        "value=False\n",
        "print(test_accuracy)"
      ],
      "metadata": {
        "colab": {
          "base_uri": "https://localhost:8080/"
        },
        "id": "No0q00OMgIs3",
        "outputId": "1655643a-8b57-4310-c588-a106c0f24ed9"
      },
      "execution_count": null,
      "outputs": [
        {
          "output_type": "stream",
          "name": "stdout",
          "text": [
            "91.36999999999999\n"
          ]
        }
      ]
    },
    {
      "cell_type": "code",
      "source": [],
      "metadata": {
        "id": "WIV_PedAhXxV"
      },
      "execution_count": null,
      "outputs": []
    }
  ],
  "metadata": {
    "colab": {
      "provenance": []
    },
    "kernelspec": {
      "display_name": "Python 3",
      "name": "python3"
    },
    "widgets": {
      "application/vnd.jupyter.widget-state+json": {
        "a22208e638ac48279d23273b12670d4c": {
          "model_module": "@jupyter-widgets/controls",
          "model_name": "VBoxModel",
          "model_module_version": "1.5.0",
          "state": {
            "_dom_classes": [],
            "_model_module": "@jupyter-widgets/controls",
            "_model_module_version": "1.5.0",
            "_model_name": "VBoxModel",
            "_view_count": null,
            "_view_module": "@jupyter-widgets/controls",
            "_view_module_version": "1.5.0",
            "_view_name": "VBoxView",
            "box_style": "",
            "children": [
              "IPY_MODEL_2c22d6bbaea3480b83dc6d792b821290",
              "IPY_MODEL_571211911d7d4669bd39cee480f13f71"
            ],
            "layout": "IPY_MODEL_bcbc7a2cf66e4885ad123040ca9258a7"
          }
        },
        "2c22d6bbaea3480b83dc6d792b821290": {
          "model_module": "@jupyter-widgets/controls",
          "model_name": "LabelModel",
          "model_module_version": "1.5.0",
          "state": {
            "_dom_classes": [],
            "_model_module": "@jupyter-widgets/controls",
            "_model_module_version": "1.5.0",
            "_model_name": "LabelModel",
            "_view_count": null,
            "_view_module": "@jupyter-widgets/controls",
            "_view_module_version": "1.5.0",
            "_view_name": "LabelView",
            "description": "",
            "description_tooltip": null,
            "layout": "IPY_MODEL_fcec2d4cbaf346a5a56cc7a28c8f973a",
            "placeholder": "​",
            "style": "IPY_MODEL_5ff680f9048c45548160cc30bb2449cc",
            "value": "0.006 MB of 0.014 MB uploaded (0.000 MB deduped)\r"
          }
        },
        "571211911d7d4669bd39cee480f13f71": {
          "model_module": "@jupyter-widgets/controls",
          "model_name": "FloatProgressModel",
          "model_module_version": "1.5.0",
          "state": {
            "_dom_classes": [],
            "_model_module": "@jupyter-widgets/controls",
            "_model_module_version": "1.5.0",
            "_model_name": "FloatProgressModel",
            "_view_count": null,
            "_view_module": "@jupyter-widgets/controls",
            "_view_module_version": "1.5.0",
            "_view_name": "ProgressView",
            "bar_style": "",
            "description": "",
            "description_tooltip": null,
            "layout": "IPY_MODEL_e16cbadde22d45de9f9d1487c606b4ee",
            "max": 1,
            "min": 0,
            "orientation": "horizontal",
            "style": "IPY_MODEL_1439ca20a2dc4d5b8c175828ac2fb32d",
            "value": 0.42864696939652325
          }
        },
        "bcbc7a2cf66e4885ad123040ca9258a7": {
          "model_module": "@jupyter-widgets/base",
          "model_name": "LayoutModel",
          "model_module_version": "1.2.0",
          "state": {
            "_model_module": "@jupyter-widgets/base",
            "_model_module_version": "1.2.0",
            "_model_name": "LayoutModel",
            "_view_count": null,
            "_view_module": "@jupyter-widgets/base",
            "_view_module_version": "1.2.0",
            "_view_name": "LayoutView",
            "align_content": null,
            "align_items": null,
            "align_self": null,
            "border": null,
            "bottom": null,
            "display": null,
            "flex": null,
            "flex_flow": null,
            "grid_area": null,
            "grid_auto_columns": null,
            "grid_auto_flow": null,
            "grid_auto_rows": null,
            "grid_column": null,
            "grid_gap": null,
            "grid_row": null,
            "grid_template_areas": null,
            "grid_template_columns": null,
            "grid_template_rows": null,
            "height": null,
            "justify_content": null,
            "justify_items": null,
            "left": null,
            "margin": null,
            "max_height": null,
            "max_width": null,
            "min_height": null,
            "min_width": null,
            "object_fit": null,
            "object_position": null,
            "order": null,
            "overflow": null,
            "overflow_x": null,
            "overflow_y": null,
            "padding": null,
            "right": null,
            "top": null,
            "visibility": null,
            "width": null
          }
        },
        "fcec2d4cbaf346a5a56cc7a28c8f973a": {
          "model_module": "@jupyter-widgets/base",
          "model_name": "LayoutModel",
          "model_module_version": "1.2.0",
          "state": {
            "_model_module": "@jupyter-widgets/base",
            "_model_module_version": "1.2.0",
            "_model_name": "LayoutModel",
            "_view_count": null,
            "_view_module": "@jupyter-widgets/base",
            "_view_module_version": "1.2.0",
            "_view_name": "LayoutView",
            "align_content": null,
            "align_items": null,
            "align_self": null,
            "border": null,
            "bottom": null,
            "display": null,
            "flex": null,
            "flex_flow": null,
            "grid_area": null,
            "grid_auto_columns": null,
            "grid_auto_flow": null,
            "grid_auto_rows": null,
            "grid_column": null,
            "grid_gap": null,
            "grid_row": null,
            "grid_template_areas": null,
            "grid_template_columns": null,
            "grid_template_rows": null,
            "height": null,
            "justify_content": null,
            "justify_items": null,
            "left": null,
            "margin": null,
            "max_height": null,
            "max_width": null,
            "min_height": null,
            "min_width": null,
            "object_fit": null,
            "object_position": null,
            "order": null,
            "overflow": null,
            "overflow_x": null,
            "overflow_y": null,
            "padding": null,
            "right": null,
            "top": null,
            "visibility": null,
            "width": null
          }
        },
        "5ff680f9048c45548160cc30bb2449cc": {
          "model_module": "@jupyter-widgets/controls",
          "model_name": "DescriptionStyleModel",
          "model_module_version": "1.5.0",
          "state": {
            "_model_module": "@jupyter-widgets/controls",
            "_model_module_version": "1.5.0",
            "_model_name": "DescriptionStyleModel",
            "_view_count": null,
            "_view_module": "@jupyter-widgets/base",
            "_view_module_version": "1.2.0",
            "_view_name": "StyleView",
            "description_width": ""
          }
        },
        "e16cbadde22d45de9f9d1487c606b4ee": {
          "model_module": "@jupyter-widgets/base",
          "model_name": "LayoutModel",
          "model_module_version": "1.2.0",
          "state": {
            "_model_module": "@jupyter-widgets/base",
            "_model_module_version": "1.2.0",
            "_model_name": "LayoutModel",
            "_view_count": null,
            "_view_module": "@jupyter-widgets/base",
            "_view_module_version": "1.2.0",
            "_view_name": "LayoutView",
            "align_content": null,
            "align_items": null,
            "align_self": null,
            "border": null,
            "bottom": null,
            "display": null,
            "flex": null,
            "flex_flow": null,
            "grid_area": null,
            "grid_auto_columns": null,
            "grid_auto_flow": null,
            "grid_auto_rows": null,
            "grid_column": null,
            "grid_gap": null,
            "grid_row": null,
            "grid_template_areas": null,
            "grid_template_columns": null,
            "grid_template_rows": null,
            "height": null,
            "justify_content": null,
            "justify_items": null,
            "left": null,
            "margin": null,
            "max_height": null,
            "max_width": null,
            "min_height": null,
            "min_width": null,
            "object_fit": null,
            "object_position": null,
            "order": null,
            "overflow": null,
            "overflow_x": null,
            "overflow_y": null,
            "padding": null,
            "right": null,
            "top": null,
            "visibility": null,
            "width": null
          }
        },
        "1439ca20a2dc4d5b8c175828ac2fb32d": {
          "model_module": "@jupyter-widgets/controls",
          "model_name": "ProgressStyleModel",
          "model_module_version": "1.5.0",
          "state": {
            "_model_module": "@jupyter-widgets/controls",
            "_model_module_version": "1.5.0",
            "_model_name": "ProgressStyleModel",
            "_view_count": null,
            "_view_module": "@jupyter-widgets/base",
            "_view_module_version": "1.2.0",
            "_view_name": "StyleView",
            "bar_color": null,
            "description_width": ""
          }
        },
        "19e63f3f05b34249b12061aff63a6d82": {
          "model_module": "@jupyter-widgets/controls",
          "model_name": "VBoxModel",
          "model_module_version": "1.5.0",
          "state": {
            "_dom_classes": [],
            "_model_module": "@jupyter-widgets/controls",
            "_model_module_version": "1.5.0",
            "_model_name": "VBoxModel",
            "_view_count": null,
            "_view_module": "@jupyter-widgets/controls",
            "_view_module_version": "1.5.0",
            "_view_name": "VBoxView",
            "box_style": "",
            "children": [
              "IPY_MODEL_fa66be212a0b45ee88c0922b15f052e3",
              "IPY_MODEL_e697f544c65149a1a0ba55c1968e90a3"
            ],
            "layout": "IPY_MODEL_0247d18e7cea4eb7a9301e838bdbf45e"
          }
        },
        "fa66be212a0b45ee88c0922b15f052e3": {
          "model_module": "@jupyter-widgets/controls",
          "model_name": "LabelModel",
          "model_module_version": "1.5.0",
          "state": {
            "_dom_classes": [],
            "_model_module": "@jupyter-widgets/controls",
            "_model_module_version": "1.5.0",
            "_model_name": "LabelModel",
            "_view_count": null,
            "_view_module": "@jupyter-widgets/controls",
            "_view_module_version": "1.5.0",
            "_view_name": "LabelView",
            "description": "",
            "description_tooltip": null,
            "layout": "IPY_MODEL_80ccdbdd0b3541eb96635096d6b01f37",
            "placeholder": "​",
            "style": "IPY_MODEL_61925964b39c424d98e06cdfd0801929",
            "value": "0.001 MB of 0.008 MB uploaded (0.000 MB deduped)\r"
          }
        },
        "e697f544c65149a1a0ba55c1968e90a3": {
          "model_module": "@jupyter-widgets/controls",
          "model_name": "FloatProgressModel",
          "model_module_version": "1.5.0",
          "state": {
            "_dom_classes": [],
            "_model_module": "@jupyter-widgets/controls",
            "_model_module_version": "1.5.0",
            "_model_name": "FloatProgressModel",
            "_view_count": null,
            "_view_module": "@jupyter-widgets/controls",
            "_view_module_version": "1.5.0",
            "_view_name": "ProgressView",
            "bar_style": "",
            "description": "",
            "description_tooltip": null,
            "layout": "IPY_MODEL_b06a61c06d5c452cb2cd8924e96fd819",
            "max": 1,
            "min": 0,
            "orientation": "horizontal",
            "style": "IPY_MODEL_f29d00ce976e42c489aa914094e8dc00",
            "value": 0.11843328684332868
          }
        },
        "0247d18e7cea4eb7a9301e838bdbf45e": {
          "model_module": "@jupyter-widgets/base",
          "model_name": "LayoutModel",
          "model_module_version": "1.2.0",
          "state": {
            "_model_module": "@jupyter-widgets/base",
            "_model_module_version": "1.2.0",
            "_model_name": "LayoutModel",
            "_view_count": null,
            "_view_module": "@jupyter-widgets/base",
            "_view_module_version": "1.2.0",
            "_view_name": "LayoutView",
            "align_content": null,
            "align_items": null,
            "align_self": null,
            "border": null,
            "bottom": null,
            "display": null,
            "flex": null,
            "flex_flow": null,
            "grid_area": null,
            "grid_auto_columns": null,
            "grid_auto_flow": null,
            "grid_auto_rows": null,
            "grid_column": null,
            "grid_gap": null,
            "grid_row": null,
            "grid_template_areas": null,
            "grid_template_columns": null,
            "grid_template_rows": null,
            "height": null,
            "justify_content": null,
            "justify_items": null,
            "left": null,
            "margin": null,
            "max_height": null,
            "max_width": null,
            "min_height": null,
            "min_width": null,
            "object_fit": null,
            "object_position": null,
            "order": null,
            "overflow": null,
            "overflow_x": null,
            "overflow_y": null,
            "padding": null,
            "right": null,
            "top": null,
            "visibility": null,
            "width": null
          }
        },
        "80ccdbdd0b3541eb96635096d6b01f37": {
          "model_module": "@jupyter-widgets/base",
          "model_name": "LayoutModel",
          "model_module_version": "1.2.0",
          "state": {
            "_model_module": "@jupyter-widgets/base",
            "_model_module_version": "1.2.0",
            "_model_name": "LayoutModel",
            "_view_count": null,
            "_view_module": "@jupyter-widgets/base",
            "_view_module_version": "1.2.0",
            "_view_name": "LayoutView",
            "align_content": null,
            "align_items": null,
            "align_self": null,
            "border": null,
            "bottom": null,
            "display": null,
            "flex": null,
            "flex_flow": null,
            "grid_area": null,
            "grid_auto_columns": null,
            "grid_auto_flow": null,
            "grid_auto_rows": null,
            "grid_column": null,
            "grid_gap": null,
            "grid_row": null,
            "grid_template_areas": null,
            "grid_template_columns": null,
            "grid_template_rows": null,
            "height": null,
            "justify_content": null,
            "justify_items": null,
            "left": null,
            "margin": null,
            "max_height": null,
            "max_width": null,
            "min_height": null,
            "min_width": null,
            "object_fit": null,
            "object_position": null,
            "order": null,
            "overflow": null,
            "overflow_x": null,
            "overflow_y": null,
            "padding": null,
            "right": null,
            "top": null,
            "visibility": null,
            "width": null
          }
        },
        "61925964b39c424d98e06cdfd0801929": {
          "model_module": "@jupyter-widgets/controls",
          "model_name": "DescriptionStyleModel",
          "model_module_version": "1.5.0",
          "state": {
            "_model_module": "@jupyter-widgets/controls",
            "_model_module_version": "1.5.0",
            "_model_name": "DescriptionStyleModel",
            "_view_count": null,
            "_view_module": "@jupyter-widgets/base",
            "_view_module_version": "1.2.0",
            "_view_name": "StyleView",
            "description_width": ""
          }
        },
        "b06a61c06d5c452cb2cd8924e96fd819": {
          "model_module": "@jupyter-widgets/base",
          "model_name": "LayoutModel",
          "model_module_version": "1.2.0",
          "state": {
            "_model_module": "@jupyter-widgets/base",
            "_model_module_version": "1.2.0",
            "_model_name": "LayoutModel",
            "_view_count": null,
            "_view_module": "@jupyter-widgets/base",
            "_view_module_version": "1.2.0",
            "_view_name": "LayoutView",
            "align_content": null,
            "align_items": null,
            "align_self": null,
            "border": null,
            "bottom": null,
            "display": null,
            "flex": null,
            "flex_flow": null,
            "grid_area": null,
            "grid_auto_columns": null,
            "grid_auto_flow": null,
            "grid_auto_rows": null,
            "grid_column": null,
            "grid_gap": null,
            "grid_row": null,
            "grid_template_areas": null,
            "grid_template_columns": null,
            "grid_template_rows": null,
            "height": null,
            "justify_content": null,
            "justify_items": null,
            "left": null,
            "margin": null,
            "max_height": null,
            "max_width": null,
            "min_height": null,
            "min_width": null,
            "object_fit": null,
            "object_position": null,
            "order": null,
            "overflow": null,
            "overflow_x": null,
            "overflow_y": null,
            "padding": null,
            "right": null,
            "top": null,
            "visibility": null,
            "width": null
          }
        },
        "f29d00ce976e42c489aa914094e8dc00": {
          "model_module": "@jupyter-widgets/controls",
          "model_name": "ProgressStyleModel",
          "model_module_version": "1.5.0",
          "state": {
            "_model_module": "@jupyter-widgets/controls",
            "_model_module_version": "1.5.0",
            "_model_name": "ProgressStyleModel",
            "_view_count": null,
            "_view_module": "@jupyter-widgets/base",
            "_view_module_version": "1.2.0",
            "_view_name": "StyleView",
            "bar_color": null,
            "description_width": ""
          }
        }
      }
    }
  },
  "nbformat": 4,
  "nbformat_minor": 0
}